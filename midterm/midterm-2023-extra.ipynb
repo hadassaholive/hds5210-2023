{
  "cells": [
    {
      "cell_type": "markdown",
      "metadata": {
        "id": "7N2Pk4RFP4Zq"
      },
      "source": [
        "# Extra Credit\n",
        "\n",
        "For upto an additional 15 extra credit points on the midterm exam, you can write another function that applies additional criteria on top of what the midterm already did.  To earn the addition points, you need write a function called `summarize_results(patients)` to take the output of your  `process_people()` function to apply a new business rule and summarize the results.\n",
        "\n",
        "* Your function should take the dictionary created by `process_people()` as it's one input parameter: `patients`.\n",
        "* If the PRIEST probably is less than 10%, change the `hospital` and `address` to both have a value of `'Home'` indicating patients with a lower probability of an adverse outcome can just go home rather than be admitted to a hospital.\n",
        "* Summarize those results and count how many patients are now being sent to each location.  Your result should have the following format:\n",
        "```\n",
        "{\n",
        "    \"Home\": 123,\n",
        "    \"Hospital A\": 10,\n",
        "    \"Hospital B\": 20,\n",
        "    \"Hospital C\": 30\n",
        "}\n",
        "```\n",
        "\n",
        "As always, your function needs good docstrings; but does not require any doctests in this case."
      ]
    },
    {
      "cell_type": "code",
      "execution_count": 5,
      "metadata": {
        "id": "GdGYW2VyP4Zw"
      },
      "outputs": [],
      "source": [
        "def summarize_results(patients):\n",
        "    \"\"\" str, int -> string\n",
        "        Summarize the results and count how many patients are being sent to each location.\n",
        "\n",
        "\n",
        "    \"\"\"\n",
        "\n",
        "    summary = {\n",
        "        \"Home\": 0,\n",
        "        \"Hospital A\": 0,\n",
        "        \"Hospital B\": 0,\n",
        "        \"Hospital C\": 0\n",
        "    }\n",
        "\n",
        "    for patient_info in patients.values():\n",
        "        risk_percentage = priest(\n",
        "            patient_info['sex'],\n",
        "            patient_info['age'],\n",
        "            patient_info['respiratory_rate'],\n",
        "            patient_info['oxygen_saturation'],\n",
        "            patient_info['heart_rate'],\n",
        "            patient_info['systolic_bp'],\n",
        "            patient_info['temperature'],\n",
        "            patient_info['alertness'],\n",
        "            patient_info['inspired_oxygen'],\n",
        "            patient_info['status']\n",
        "        )\n",
        "\n",
        "        if risk_percentage is not None:\n",
        "            if risk_percentage < 0.10:\n",
        "                summary[\"Home\"] += 1\n",
        "            else:\n",
        "                # Determine the hospital location based on the patient's information\n",
        "                hospital_name = find_hospital(\n",
        "                    patient_info['age'],\n",
        "                    patient_info['sex'],\n",
        "                    risk_percentage\n",
        "                )\n",
        "\n",
        "                if hospital_name in summary:\n",
        "                    summary[hospital_name] += 1\n",
        "\n",
        "    return summary\n"
      ]
    },
    {
      "cell_type": "code",
      "execution_count": 3,
      "metadata": {
        "id": "Umebg5_uP4Zx"
      },
      "outputs": [],
      "source": []
    }
  ],
  "metadata": {
    "kernelspec": {
      "display_name": ".venv",
      "language": "python",
      "name": "python3"
    },
    "language_info": {
      "codemirror_mode": {
        "name": "ipython",
        "version": 3
      },
      "file_extension": ".py",
      "mimetype": "text/x-python",
      "name": "python",
      "nbconvert_exporter": "python",
      "pygments_lexer": "ipython3",
      "version": "3.9.16"
    },
    "colab": {
      "provenance": []
    }
  },
  "nbformat": 4,
  "nbformat_minor": 0
}