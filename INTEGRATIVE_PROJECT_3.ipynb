{
  "nbformat": 4,
  "nbformat_minor": 0,
  "metadata": {
    "colab": {
      "provenance": [],
      "gpuType": "T4",
      "include_colab_link": true
    },
    "kernelspec": {
      "name": "python3",
      "display_name": "Python 3"
    },
    "language_info": {
      "name": "python"
    },
    "accelerator": "GPU",
    "widgets": {
      "application/vnd.jupyter.widget-state+json": {
        "f6d9c723045640e681845b59a0aa0e7b": {
          "model_module": "@jupyter-widgets/controls",
          "model_name": "HBoxModel",
          "model_module_version": "1.5.0",
          "state": {
            "_dom_classes": [],
            "_model_module": "@jupyter-widgets/controls",
            "_model_module_version": "1.5.0",
            "_model_name": "HBoxModel",
            "_view_count": null,
            "_view_module": "@jupyter-widgets/controls",
            "_view_module_version": "1.5.0",
            "_view_name": "HBoxView",
            "box_style": "",
            "children": [
              "IPY_MODEL_bb0a0bcd8c39471480586e883d9280bc",
              "IPY_MODEL_480c303acd8d4ddc9b5451552ef9d997",
              "IPY_MODEL_ad01fc9e49374673bd2b70b063b2ae86"
            ],
            "layout": "IPY_MODEL_9c03101fb97b4acea4d147def490a6ac"
          }
        },
        "bb0a0bcd8c39471480586e883d9280bc": {
          "model_module": "@jupyter-widgets/controls",
          "model_name": "HTMLModel",
          "model_module_version": "1.5.0",
          "state": {
            "_dom_classes": [],
            "_model_module": "@jupyter-widgets/controls",
            "_model_module_version": "1.5.0",
            "_model_name": "HTMLModel",
            "_view_count": null,
            "_view_module": "@jupyter-widgets/controls",
            "_view_module_version": "1.5.0",
            "_view_name": "HTMLView",
            "description": "",
            "description_tooltip": null,
            "layout": "IPY_MODEL_72bc9d512f004f0ab97912fdd6a457f9",
            "placeholder": "​",
            "style": "IPY_MODEL_7ddcbc97123640d99a3dba99759ef771",
            "value": "llama-2-13b-chat.Q5_K_M.gguf: 100%"
          }
        },
        "480c303acd8d4ddc9b5451552ef9d997": {
          "model_module": "@jupyter-widgets/controls",
          "model_name": "FloatProgressModel",
          "model_module_version": "1.5.0",
          "state": {
            "_dom_classes": [],
            "_model_module": "@jupyter-widgets/controls",
            "_model_module_version": "1.5.0",
            "_model_name": "FloatProgressModel",
            "_view_count": null,
            "_view_module": "@jupyter-widgets/controls",
            "_view_module_version": "1.5.0",
            "_view_name": "ProgressView",
            "bar_style": "success",
            "description": "",
            "description_tooltip": null,
            "layout": "IPY_MODEL_eaf1b291508c4e86a6cbad4f59d1a339",
            "max": 9229924224,
            "min": 0,
            "orientation": "horizontal",
            "style": "IPY_MODEL_247f86c2e4514f3d9a353ac8a885c221",
            "value": 9229924224
          }
        },
        "ad01fc9e49374673bd2b70b063b2ae86": {
          "model_module": "@jupyter-widgets/controls",
          "model_name": "HTMLModel",
          "model_module_version": "1.5.0",
          "state": {
            "_dom_classes": [],
            "_model_module": "@jupyter-widgets/controls",
            "_model_module_version": "1.5.0",
            "_model_name": "HTMLModel",
            "_view_count": null,
            "_view_module": "@jupyter-widgets/controls",
            "_view_module_version": "1.5.0",
            "_view_name": "HTMLView",
            "description": "",
            "description_tooltip": null,
            "layout": "IPY_MODEL_d33e455f85b149f18947243f58195d20",
            "placeholder": "​",
            "style": "IPY_MODEL_bb72864a887c46e0b1670f136c8f21ed",
            "value": " 9.23G/9.23G [00:53&lt;00:00, 160MB/s]"
          }
        },
        "9c03101fb97b4acea4d147def490a6ac": {
          "model_module": "@jupyter-widgets/base",
          "model_name": "LayoutModel",
          "model_module_version": "1.2.0",
          "state": {
            "_model_module": "@jupyter-widgets/base",
            "_model_module_version": "1.2.0",
            "_model_name": "LayoutModel",
            "_view_count": null,
            "_view_module": "@jupyter-widgets/base",
            "_view_module_version": "1.2.0",
            "_view_name": "LayoutView",
            "align_content": null,
            "align_items": null,
            "align_self": null,
            "border": null,
            "bottom": null,
            "display": null,
            "flex": null,
            "flex_flow": null,
            "grid_area": null,
            "grid_auto_columns": null,
            "grid_auto_flow": null,
            "grid_auto_rows": null,
            "grid_column": null,
            "grid_gap": null,
            "grid_row": null,
            "grid_template_areas": null,
            "grid_template_columns": null,
            "grid_template_rows": null,
            "height": null,
            "justify_content": null,
            "justify_items": null,
            "left": null,
            "margin": null,
            "max_height": null,
            "max_width": null,
            "min_height": null,
            "min_width": null,
            "object_fit": null,
            "object_position": null,
            "order": null,
            "overflow": null,
            "overflow_x": null,
            "overflow_y": null,
            "padding": null,
            "right": null,
            "top": null,
            "visibility": null,
            "width": null
          }
        },
        "72bc9d512f004f0ab97912fdd6a457f9": {
          "model_module": "@jupyter-widgets/base",
          "model_name": "LayoutModel",
          "model_module_version": "1.2.0",
          "state": {
            "_model_module": "@jupyter-widgets/base",
            "_model_module_version": "1.2.0",
            "_model_name": "LayoutModel",
            "_view_count": null,
            "_view_module": "@jupyter-widgets/base",
            "_view_module_version": "1.2.0",
            "_view_name": "LayoutView",
            "align_content": null,
            "align_items": null,
            "align_self": null,
            "border": null,
            "bottom": null,
            "display": null,
            "flex": null,
            "flex_flow": null,
            "grid_area": null,
            "grid_auto_columns": null,
            "grid_auto_flow": null,
            "grid_auto_rows": null,
            "grid_column": null,
            "grid_gap": null,
            "grid_row": null,
            "grid_template_areas": null,
            "grid_template_columns": null,
            "grid_template_rows": null,
            "height": null,
            "justify_content": null,
            "justify_items": null,
            "left": null,
            "margin": null,
            "max_height": null,
            "max_width": null,
            "min_height": null,
            "min_width": null,
            "object_fit": null,
            "object_position": null,
            "order": null,
            "overflow": null,
            "overflow_x": null,
            "overflow_y": null,
            "padding": null,
            "right": null,
            "top": null,
            "visibility": null,
            "width": null
          }
        },
        "7ddcbc97123640d99a3dba99759ef771": {
          "model_module": "@jupyter-widgets/controls",
          "model_name": "DescriptionStyleModel",
          "model_module_version": "1.5.0",
          "state": {
            "_model_module": "@jupyter-widgets/controls",
            "_model_module_version": "1.5.0",
            "_model_name": "DescriptionStyleModel",
            "_view_count": null,
            "_view_module": "@jupyter-widgets/base",
            "_view_module_version": "1.2.0",
            "_view_name": "StyleView",
            "description_width": ""
          }
        },
        "eaf1b291508c4e86a6cbad4f59d1a339": {
          "model_module": "@jupyter-widgets/base",
          "model_name": "LayoutModel",
          "model_module_version": "1.2.0",
          "state": {
            "_model_module": "@jupyter-widgets/base",
            "_model_module_version": "1.2.0",
            "_model_name": "LayoutModel",
            "_view_count": null,
            "_view_module": "@jupyter-widgets/base",
            "_view_module_version": "1.2.0",
            "_view_name": "LayoutView",
            "align_content": null,
            "align_items": null,
            "align_self": null,
            "border": null,
            "bottom": null,
            "display": null,
            "flex": null,
            "flex_flow": null,
            "grid_area": null,
            "grid_auto_columns": null,
            "grid_auto_flow": null,
            "grid_auto_rows": null,
            "grid_column": null,
            "grid_gap": null,
            "grid_row": null,
            "grid_template_areas": null,
            "grid_template_columns": null,
            "grid_template_rows": null,
            "height": null,
            "justify_content": null,
            "justify_items": null,
            "left": null,
            "margin": null,
            "max_height": null,
            "max_width": null,
            "min_height": null,
            "min_width": null,
            "object_fit": null,
            "object_position": null,
            "order": null,
            "overflow": null,
            "overflow_x": null,
            "overflow_y": null,
            "padding": null,
            "right": null,
            "top": null,
            "visibility": null,
            "width": null
          }
        },
        "247f86c2e4514f3d9a353ac8a885c221": {
          "model_module": "@jupyter-widgets/controls",
          "model_name": "ProgressStyleModel",
          "model_module_version": "1.5.0",
          "state": {
            "_model_module": "@jupyter-widgets/controls",
            "_model_module_version": "1.5.0",
            "_model_name": "ProgressStyleModel",
            "_view_count": null,
            "_view_module": "@jupyter-widgets/base",
            "_view_module_version": "1.2.0",
            "_view_name": "StyleView",
            "bar_color": null,
            "description_width": ""
          }
        },
        "d33e455f85b149f18947243f58195d20": {
          "model_module": "@jupyter-widgets/base",
          "model_name": "LayoutModel",
          "model_module_version": "1.2.0",
          "state": {
            "_model_module": "@jupyter-widgets/base",
            "_model_module_version": "1.2.0",
            "_model_name": "LayoutModel",
            "_view_count": null,
            "_view_module": "@jupyter-widgets/base",
            "_view_module_version": "1.2.0",
            "_view_name": "LayoutView",
            "align_content": null,
            "align_items": null,
            "align_self": null,
            "border": null,
            "bottom": null,
            "display": null,
            "flex": null,
            "flex_flow": null,
            "grid_area": null,
            "grid_auto_columns": null,
            "grid_auto_flow": null,
            "grid_auto_rows": null,
            "grid_column": null,
            "grid_gap": null,
            "grid_row": null,
            "grid_template_areas": null,
            "grid_template_columns": null,
            "grid_template_rows": null,
            "height": null,
            "justify_content": null,
            "justify_items": null,
            "left": null,
            "margin": null,
            "max_height": null,
            "max_width": null,
            "min_height": null,
            "min_width": null,
            "object_fit": null,
            "object_position": null,
            "order": null,
            "overflow": null,
            "overflow_x": null,
            "overflow_y": null,
            "padding": null,
            "right": null,
            "top": null,
            "visibility": null,
            "width": null
          }
        },
        "bb72864a887c46e0b1670f136c8f21ed": {
          "model_module": "@jupyter-widgets/controls",
          "model_name": "DescriptionStyleModel",
          "model_module_version": "1.5.0",
          "state": {
            "_model_module": "@jupyter-widgets/controls",
            "_model_module_version": "1.5.0",
            "_model_name": "DescriptionStyleModel",
            "_view_count": null,
            "_view_module": "@jupyter-widgets/base",
            "_view_module_version": "1.2.0",
            "_view_name": "StyleView",
            "description_width": ""
          }
        }
      }
    }
  },
  "cells": [
    {
      "cell_type": "markdown",
      "metadata": {
        "id": "view-in-github",
        "colab_type": "text"
      },
      "source": [
        "<a href=\"https://colab.research.google.com/github/hadassaholive/hds5210-2023/blob/main/INTEGRATIVE_PROJECT_3.ipynb\" target=\"_parent\"><img src=\"https://colab.research.google.com/assets/colab-badge.svg\" alt=\"Open In Colab\"/></a>"
      ]
    },
    {
      "cell_type": "markdown",
      "source": [
        "![B1.jpg](data:image/jpeg;base64,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)"
      ],
      "metadata": {
        "id": "2N_RqrtuEY0m"
      }
    },
    {
      "cell_type": "markdown",
      "source": [
        "# **Goal**\n",
        "\n",
        "Build a link with this LLM for extracting knowledge using a Google Colab notebook and HuggingFace. Write prompts to investigate the following:\n",
        "The specific steps for preparing for a data science interview.\n",
        "What are the five main questions asked by a recruiter of entry-level data scientists?\n",
        "Descriptive data scientist profiles for three.\n",
        "\n",
        "# **Index**\n",
        "\n",
        "Zero-shot, One-shot, and Few-shot Prompt Engineering using the Llama-2-13B-chat model.\n",
        "Advanced Prompt Engineering Techniques for extracting data science interview strategies and generating structured data scientist profiles."
      ],
      "metadata": {
        "id": "IUn7Jp1mEf8j"
      }
    },
    {
      "cell_type": "markdown",
      "source": [
        "### **Explanation:**\n",
        "\n",
        "The following code is willing to generate responses in text using a pretrained sequence-to-sequence model from the Hugging Face Transformers library (as it is, FLAN-T5) with quantization for saving memory.\n",
        "Important actions in the code.\n",
        "\n",
        "\n",
        "***Key Actions in the Code***\n",
        "\n",
        "**Import Libraries:**. Import AutoTokenizer, AutoModelForSeq2SeqLM, BitsAndBytesConfig and torch for handling devices for model loading, tokenization and quantization.\n",
        "\n",
        "```\n",
        "# Imports AutoTokenizer, AutoModelForSeq2SeqLM, and BitsAndBytesConfig\n",
        "# Imports torch\n",
        "```\n",
        "\n",
        "\n",
        "\n",
        "**Configure Quantization:** 8 bits quantization allows runtime-on decrease in memory for better performance even with low-end hardware.\n",
        "\n",
        "```\n",
        "# BitsAndBytesConfig(load_in_8bit=True):\n",
        "```\n",
        "\n",
        "**Load Model and Tokenizer:** The model (google/flan-t5-base) is loaded with quantization enabled and mapped to available devices (e.g., GPU).\n",
        "\n",
        "\n",
        "*AutoTokenizer* and *AutoModelForSeq2SeqLM* are used to load the tokenizer and the pretrained FLAN-T5 model. The model is automatically mapped to GPU or CPU (*device_map=\"auto\"*), ensuring compatibility with the hardware.\n",
        "\n",
        "\n",
        "**Define the Response Generation Function:** *Input Tokenization:* Converts the text prompt into tokenized tensors for model input.\n",
        "\n",
        "\n",
        "\n",
        "**Generate Response:**\n",
        "Uses the model's generate method to produce a text response, with decoding parameters like:\n",
        "* *max_length:* Maximum response length.\n",
        "* *temperature:* Controls randomness in generation (lower is more deterministic).\n",
        "* *top_k:* Samples from the top k most likely tokens.\n",
        "* *top_p:* Uses nucleus sampling, considering the smallest token set with a cumulative probability ≥ top_p.\n",
        "\n",
        "***Output Decoding:*** Converts the model's output tensor back into a human-readable text string.\n",
        "Create a Prompt for the Model:\n"
      ],
      "metadata": {
        "id": "Z-JCajQ_ReNE"
      }
    },
    {
      "cell_type": "markdown",
      "source": [
        "## **2. Prompt Engineering advanced techniques using Llama2-13B.**\n",
        "\n",
        "BE SURE you change to GPU 4T before running these code."
      ],
      "metadata": {
        "id": "ualuJoO6H58n"
      }
    },
    {
      "cell_type": "code",
      "source": [
        "# Installation for GPU llama-cpp-python\n",
        "!CMAKE_ARGS=\"-DLLAMA_CUBLAS=on\" FORCE_CMAKE=1 pip install llama-cpp-python==0.2.28 --force-reinstall --upgrade --no-cache-dir --verbose -q 2>/dev/null"
      ],
      "metadata": {
        "colab": {
          "base_uri": "https://localhost:8080/"
        },
        "id": "nEyLJecVImAO",
        "outputId": "16f5df59-2ed0-4b72-a281-c061fd70fdec"
      },
      "execution_count": null,
      "outputs": [
        {
          "output_type": "stream",
          "name": "stdout",
          "text": [
            "Collecting llama-cpp-python==0.2.28\n",
            "  Downloading llama_cpp_python-0.2.28.tar.gz (9.4 MB)\n",
            "\u001b[?25l     \u001b[90m━━━━━━━━━━━━━━━━━━━━━━━━━━━━━━━━━━━━━━━━\u001b[0m \u001b[32m0.0/9.4 MB\u001b[0m \u001b[31m?\u001b[0m eta \u001b[36m-:--:--\u001b[0m\r\u001b[2K     \u001b[91m━━━━\u001b[0m\u001b[90m╺\u001b[0m\u001b[90m━━━━━━━━━━━━━━━━━━━━━━━━━━━━━━━━━━━\u001b[0m \u001b[32m1.0/9.4 MB\u001b[0m \u001b[31m31.4 MB/s\u001b[0m eta \u001b[36m0:00:01\u001b[0m\r\u001b[2K     \u001b[91m━━━━━━━━━━━━━━━━━━━━━━━━━\u001b[0m\u001b[90m╺\u001b[0m\u001b[90m━━━━━━━━━━━━━━\u001b[0m \u001b[32m6.0/9.4 MB\u001b[0m \u001b[31m86.5 MB/s\u001b[0m eta \u001b[36m0:00:01\u001b[0m\r\u001b[2K     \u001b[90m━━━━━━━━━━━━━━━━━━━━━━━━━━━━━━━━━━━━━━━━\u001b[0m \u001b[32m9.4/9.4 MB\u001b[0m \u001b[31m108.2 MB/s\u001b[0m eta \u001b[36m0:00:00\u001b[0m\n",
            "\u001b[?25h  Installing build dependencies ... \u001b[?25l\u001b[?25hdone\n",
            "  Getting requirements to build wheel ... \u001b[?25l\u001b[?25hdone\n",
            "  Installing backend dependencies ... \u001b[?25l\u001b[?25hdone\n",
            "  Preparing metadata (pyproject.toml) ... \u001b[?25l\u001b[?25hdone\n",
            "Collecting typing-extensions>=4.5.0 (from llama-cpp-python==0.2.28)\n",
            "  Downloading typing_extensions-4.12.2-py3-none-any.whl.metadata (3.0 kB)\n",
            "Collecting numpy>=1.20.0 (from llama-cpp-python==0.2.28)\n",
            "  Downloading numpy-2.2.0-cp310-cp310-manylinux_2_17_x86_64.manylinux2014_x86_64.whl.metadata (62 kB)\n",
            "\u001b[2K     \u001b[90m━━━━━━━━━━━━━━━━━━━━━━━━━━━━━━━━━━━━━━━━\u001b[0m \u001b[32m62.0/62.0 kB\u001b[0m \u001b[31m128.5 MB/s\u001b[0m eta \u001b[36m0:00:00\u001b[0m\n",
            "\u001b[?25hCollecting diskcache>=5.6.1 (from llama-cpp-python==0.2.28)\n",
            "  Downloading diskcache-5.6.3-py3-none-any.whl.metadata (20 kB)\n",
            "Downloading diskcache-5.6.3-py3-none-any.whl (45 kB)\n",
            "\u001b[2K   \u001b[90m━━━━━━━━━━━━━━━━━━━━━━━━━━━━━━━━━━━━━━━━\u001b[0m \u001b[32m45.5/45.5 kB\u001b[0m \u001b[31m119.3 MB/s\u001b[0m eta \u001b[36m0:00:00\u001b[0m\n",
            "\u001b[?25hDownloading numpy-2.2.0-cp310-cp310-manylinux_2_17_x86_64.manylinux2014_x86_64.whl (16.4 MB)\n",
            "\u001b[2K   \u001b[90m━━━━━━━━━━━━━━━━━━━━━━━━━━━━━━━━━━━━━━━━\u001b[0m \u001b[32m16.4/16.4 MB\u001b[0m \u001b[31m269.3 MB/s\u001b[0m eta \u001b[36m0:00:00\u001b[0m\n",
            "\u001b[?25hDownloading typing_extensions-4.12.2-py3-none-any.whl (37 kB)\n",
            "Building wheels for collected packages: llama-cpp-python\n",
            "  Building wheel for llama-cpp-python (pyproject.toml) ... \u001b[?25l\u001b[?25hdone\n",
            "  Created wheel for llama-cpp-python: filename=llama_cpp_python-0.2.28-cp310-cp310-linux_x86_64.whl size=8778733 sha256=96ac8cdb6a0c944da6298db69f87e6e0b7565460557c20136e5e2811618c78c6\n",
            "  Stored in directory: /tmp/pip-ephem-wheel-cache-masn06l1/wheels/93/6e/a9/478cce089dc2a082bdcffe468a1c65465c91b25d911b30da82\n",
            "Successfully built llama-cpp-python\n",
            "Installing collected packages: typing-extensions, numpy, diskcache, llama-cpp-python\n",
            "  Attempting uninstall: typing-extensions\n",
            "    Found existing installation: typing_extensions 4.12.2\n",
            "    Uninstalling typing_extensions-4.12.2:\n",
            "      Successfully uninstalled typing_extensions-4.12.2\n",
            "  Attempting uninstall: numpy\n",
            "    Found existing installation: numpy 1.26.4\n",
            "    Uninstalling numpy-1.26.4:\n",
            "      Successfully uninstalled numpy-1.26.4\n",
            "Successfully installed diskcache-5.6.3 llama-cpp-python-0.2.28 numpy-2.2.0 typing-extensions-4.12.2\n"
          ]
        }
      ]
    },
    {
      "cell_type": "code",
      "source": [
        "# For downloading the models from HF Hub\n",
        "!pip install huggingface_hub==0.23.2 -q 2>/dev/null"
      ],
      "metadata": {
        "colab": {
          "base_uri": "https://localhost:8080/"
        },
        "id": "9g201ytwJTyO",
        "outputId": "9bb80a86-9cc8-435b-f41d-895f88ed2a83"
      },
      "execution_count": null,
      "outputs": [
        {
          "output_type": "stream",
          "name": "stdout",
          "text": [
            "\u001b[?25l   \u001b[90m━━━━━━━━━━━━━━━━━━━━━━━━━━━━━━━━━━━━━━━━\u001b[0m \u001b[32m0.0/401.7 kB\u001b[0m \u001b[31m?\u001b[0m eta \u001b[36m-:--:--\u001b[0m\r\u001b[2K   \u001b[91m━━━━━━━━━━━━━━━━━━━━━━━━━━━━━━━━━━━━━━\u001b[0m\u001b[91m╸\u001b[0m\u001b[90m━\u001b[0m \u001b[32m389.1/401.7 kB\u001b[0m \u001b[31m11.3 MB/s\u001b[0m eta \u001b[36m0:00:01\u001b[0m\r\u001b[2K   \u001b[90m━━━━━━━━━━━━━━━━━━━━━━━━━━━━━━━━━━━━━━━━\u001b[0m \u001b[32m401.7/401.7 kB\u001b[0m \u001b[31m7.4 MB/s\u001b[0m eta \u001b[36m0:00:00\u001b[0m\n",
            "\u001b[?25h"
          ]
        }
      ]
    },
    {
      "cell_type": "code",
      "source": [
        "from huggingface_hub import hf_hub_download\n",
        "from llama_cpp import Llama"
      ],
      "metadata": {
        "id": "Ue6MITq_Ja9E"
      },
      "execution_count": null,
      "outputs": []
    },
    {
      "cell_type": "code",
      "source": [
        " # Model configuration\n",
        "model_name_or_path = \"TheBloke/Llama-2-13B-chat-GGUF\"\n",
        "model_basename = \"llama-2-13b-chat.Q5_K_M.gguf\"\n",
        "model_path = hf_hub_download(\n",
        "    repo_id=model_name_or_path,\n",
        "    filename=model_basename\n",
        "    )"
      ],
      "metadata": {
        "colab": {
          "base_uri": "https://localhost:8080/",
          "height": 171,
          "referenced_widgets": [
            "f6d9c723045640e681845b59a0aa0e7b",
            "bb0a0bcd8c39471480586e883d9280bc",
            "480c303acd8d4ddc9b5451552ef9d997",
            "ad01fc9e49374673bd2b70b063b2ae86",
            "9c03101fb97b4acea4d147def490a6ac",
            "72bc9d512f004f0ab97912fdd6a457f9",
            "7ddcbc97123640d99a3dba99759ef771",
            "eaf1b291508c4e86a6cbad4f59d1a339",
            "247f86c2e4514f3d9a353ac8a885c221",
            "d33e455f85b149f18947243f58195d20",
            "bb72864a887c46e0b1670f136c8f21ed"
          ]
        },
        "id": "Vczvd8L4JdX4",
        "outputId": "63d194f8-f233-4718-de0d-9b06ebec8ddc"
      },
      "execution_count": null,
      "outputs": [
        {
          "output_type": "stream",
          "name": "stderr",
          "text": [
            "/usr/local/lib/python3.10/dist-packages/huggingface_hub/utils/_token.py:89: UserWarning: \n",
            "The secret `HF_TOKEN` does not exist in your Colab secrets.\n",
            "To authenticate with the Hugging Face Hub, create a token in your settings tab (https://huggingface.co/settings/tokens), set it as secret in your Google Colab and restart your session.\n",
            "You will be able to reuse this secret in all of your notebooks.\n",
            "Please note that authentication is recommended but still optional to access public models or datasets.\n",
            "  warnings.warn(\n"
          ]
        },
        {
          "output_type": "display_data",
          "data": {
            "text/plain": [
              "llama-2-13b-chat.Q5_K_M.gguf:   0%|          | 0.00/9.23G [00:00<?, ?B/s]"
            ],
            "application/vnd.jupyter.widget-view+json": {
              "version_major": 2,
              "version_minor": 0,
              "model_id": "f6d9c723045640e681845b59a0aa0e7b"
            }
          },
          "metadata": {}
        }
      ]
    },
    {
      "cell_type": "code",
      "source": [
        "    lcpp_llm = Llama(\n",
        "        model_path=model_path,\n",
        "        n_threads=2,\n",
        "        n_batch=512,\n",
        "        n_gpu_layers=43,\n",
        "        n_ctx=4096,\n",
        "    )"
      ],
      "metadata": {
        "colab": {
          "base_uri": "https://localhost:8080/"
        },
        "id": "eDn2iEDpKR8f",
        "outputId": "14363903-9689-43a5-9125-569aee408de4"
      },
      "execution_count": null,
      "outputs": [
        {
          "output_type": "stream",
          "name": "stderr",
          "text": [
            "AVX = 1 | AVX_VNNI = 0 | AVX2 = 1 | AVX512 = 0 | AVX512_VBMI = 0 | AVX512_VNNI = 0 | FMA = 1 | NEON = 0 | ARM_FMA = 0 | F16C = 1 | FP16_VA = 0 | WASM_SIMD = 0 | BLAS = 1 | SSE3 = 1 | SSSE3 = 1 | VSX = 0 | \n"
          ]
        }
      ]
    },
    {
      "cell_type": "code",
      "source": [
        "def generate_llama_response(user_prompt):\n",
        "\n",
        "    # System message\n",
        "    system_message = \"\"\"\n",
        "    [INST]<<SYS>> Respond to the user question based on the user prompt<</SYS>>[/INST]\n",
        "    \"\"\"\n",
        "\n",
        "    # Combine user_prompt and system_message to create the prompt\n",
        "    prompt = f\"{user_prompt}\\n{system_message}\"\n",
        "\n",
        "\n",
        "    # Generate a response from the LLaMA model\n",
        "    response = lcpp_llm(\n",
        "        prompt=prompt,\n",
        "        max_tokens=600,\n",
        "        temperature=0,\n",
        "        top_p=0.95,\n",
        "        repeat_penalty=1.2,\n",
        "        top_k=50,\n",
        "        stop=['INST'],\n",
        "        echo=False\n",
        "    )\n",
        "\n",
        "    # Extract and return the response text\n",
        "    response_text = response[\"choices\"][0][\"text\"]\n",
        "    return response_text\n",
        "\n"
      ],
      "metadata": {
        "id": "i_W9enHgKqrs"
      },
      "execution_count": null,
      "outputs": []
    },
    {
      "cell_type": "markdown",
      "source": [
        "- **max_tokens**: This parameter connotes the maximum number of tokens the model can generate with reference to a prompt. In this case, up to 256 tokens are generated in the output.\n",
        "- **temperature**: It specifies the controlled randomness of the output. 0 means the answer would be deterministic and as much predictable as possible to minimize variability among responses generated by the system. Lower values lead to more focused than random outputs.\n",
        "- **top_p**: Also called nucleus sampling, this parameter governs the diversity in the output. A value of 0.95 means the model will consider the smallest set of tokens whose cumulative probability is at least 95%. It encourages diversity by using the best tokens but steers clear of outputs far too predictable.\n",
        "- **repeat_penalty**: It is the penalty for repeating tokens in the produced reply, so a higher value 1.2will reduce the probability of producing that token and hence make the answer diverse and coherent by avoiding redundancy.\n",
        "- **top_k**: This parameter refers to the maximum number of tokens to take into consideration when generating output. 50 limits the model into using only the top 50 most likely tokens when it generates output; hence it is a balance between diversity and precision.\n",
        "- **stop**: This is a list of tokens that signals to the model as to when it must stop to produce further output. Thus, the stop token, in this case, is ['INST'], meaning the model shall stop generating new tokens as soon as it encounters the token \"INST\" in its response.\n",
        "- **echo**: It is a flag whether to include prompt text in the output in the final generated output. In this instance, it is False, which means the output only comprises the generated response without reporting back the input.\n"
      ],
      "metadata": {
        "id": "16mysCUPLxTd"
      }
    },
    {
      "cell_type": "markdown",
      "source": [
        "## **Model Check**"
      ],
      "metadata": {
        "id": "Xn5kfewKMMxN"
      }
    },
    {
      "cell_type": "code",
      "source": [
        "user_prompt = \"top ten steps to prepare effectively for an entry-level data science interview\"\n",
        "response = generate_llama_response(user_prompt)\n",
        "print(response)"
      ],
      "metadata": {
        "colab": {
          "base_uri": "https://localhost:8080/"
        },
        "id": "vrwKcn1SNU2L",
        "outputId": "e13ca9ed-2e52-4f70-9cd4-706e7e82dccb"
      },
      "execution_count": null,
      "outputs": [
        {
          "output_type": "stream",
          "name": "stdout",
          "text": [
            " Sure, I'd be happy to help! Here are my top ten steps to prepare effectively for an entry-level data science interview:\n",
            "\n",
            "1. Review the fundamentals of statistics and mathematics: Data science is built upon a foundation of statistical and mathematical principles, so it's essential to have a solid understanding of these concepts before diving into more advanced topics. Brush up on your knowledge of probability distributions, hypothesis testing, regression analysis, and linear algebra.\n",
            "2. Familiarize yourself with popular data science tools and technologies: Many entry-level data science positions will involve working with popular tools like Python, R, SQL, and Tableau. Make sure you have hands-on experience with these tools and can demonstrate your proficiency in using them to analyze and visualize data.\n",
            "3. Practice machine learning basics: Machine learning is a critical component of data science, so it's important to have a solid understanding of the basic concepts like supervised and unsupervised learning, regression, classification, clustering, etc. Practice implementing these algorithms using popular libraries like scikit-learn, TensorFlow, or PyTorch.\n",
            "4. Learn data visualization techniques: Data visualization is an essential skill for any data scientist, as it allows you to communicate insights and patterns in the data effectively. Familiarize yourself with popular data visualization tools like Tableau, Power BI, or D3.js, and practice creating different types of visualizations (e.g., bar charts, scatter plots, heat maps) using real-world datasets.\n",
            "5. Understand data preprocessing techniques: Data preprocessing is a crucial step in the data science workflow, as it involves cleaning, transforming, and preparing raw data for analysis. Familiarize yourself with common preprocessing techniques like handling missing values, dealing with outliers, normalization, feature scaling, etc.\n",
            "6. Learn about database management systems: As a data scientist, you'll likely work with large datasets stored in databases. Understand the basics of relational and non-relational databases (e.g., MySQL, PostgreSQL, MongoDB), and practice querying and manipulating data using SQL and NoSQL queries.\n",
            "7. Practice working with real-world datasets: The best way to prepare for an entry-level data science interview is to work with real-world datasets to gain practical experience in analyzing and interpreting data. Find publicly available datasets online (e.g., Kaggle, UCI Machine Learning Repository) or use your own personal projects to practice applying the concepts you've learned.\n",
            "8. Develop a portfolio of projects: A well-curated portfolio of projects can help demonstrate your skills and experience to potential employers. Choose a variety of projects that showcase your proficiency in different areas of data science\n"
          ]
        }
      ]
    },
    {
      "cell_type": "code",
      "source": [
        "user_prompt = \" top five questions a recruiter might ask for such a position\"\n",
        "response = generate_llama_response(user_prompt)\n",
        "print(response)"
      ],
      "metadata": {
        "colab": {
          "base_uri": "https://localhost:8080/"
        },
        "id": "UV89BfXTOC8D",
        "outputId": "b079f2fd-4bf1-4f21-94cc-8b74f283d314"
      },
      "execution_count": null,
      "outputs": [
        {
          "output_type": "stream",
          "name": "stderr",
          "text": [
            "Llama.generate: prefix-match hit\n"
          ]
        },
        {
          "output_type": "stream",
          "name": "stdout",
          "text": [
            " Sure, I'd be happy to help! Here are the top five questions a recruiter might ask during an interview for a data scientist position:\n",
            "\n",
            "1. Can you tell us about your experience with machine learning algorithms and how you have applied them in real-world projects?\n",
            "\n",
            "Recruiters want to know if you have hands-on experience with machine learning techniques and tools, such as scikit-learn, TensorFlow, or PyTorch. They may ask for specific examples of projects you've worked on where you used machine learning algorithms to solve a problem or improve a process.\n",
            "\n",
            "2. How do you approach data preprocessing and feature engineering? Can you give an example from one of your previous projects?\n",
            "\n",
            "Data preprocessing and feature engineering are crucial steps in the data science workflow, and recruiters want to ensure that you have a systematic approach to these tasks. They may ask for examples of how you've handled missing values, dealt with outliers, or engineered new features from raw data.\n",
            "\n",
            "3. How do you stay up-to-date with the latest developments in machine learning and data science? Can you tell us about any recent papers or articles that have caught your attention?\n",
            "\n",
            "Recruiters want to know if you are passionate about keeping your skills current and if you have a good understanding of the broader landscape of machine learning and data science. They may ask for examples of how you've stayed up-to-date with new techniques, tools, or research in the field.\n",
            "\n",
            "4. Can you walk us through your experience with data visualization tools such as Tableau, Power BI, or D3.js? How do you use these tools to communicate insights to stakeholders?\n",
            "\n",
            "Data visualization is an important aspect of data science, and recruiters want to ensure that you have experience creating effective visualizations that can be used to communicate insights to stakeholders. They may ask for examples of your favorite visualizations or how you've used these tools to present findings to non-technical audiences.\n",
            "\n",
            "5. Can you give an example of a project where you had to balance the need for model accuracy with the need for interpretability? How did you approach this tradeoff, and what was the outcome?\n",
            "\n",
            "Recruiters want to know if you can navigate the tension between model accuracy and interpretability, which is a common challenge in data science. They may ask for examples of how you've balanced these competing goals in previous projects and how you approached the tradeoffs involved.\n"
          ]
        }
      ]
    },
    {
      "cell_type": "markdown",
      "source": [
        "## **structured outputs in the form of JSON / Tables**"
      ],
      "metadata": {
        "id": "omujaCEaOqcO"
      }
    },
    {
      "cell_type": "code",
      "source": [
        "user_prompt = '''Construct a JSON-based dataset describing the profiles of five senior data scientists, including:\n",
        "\n",
        "{\n",
        "  \"data_scientists\": [\n",
        "    {\n",
        "      \"name\": \"John Mitchell\",\n",
        "      \"position\": \"Senior Data Scientist\",\n",
        "      \"major\": \"Business\",\n",
        "      \"years_of_experience\": 10,\n",
        "      \"technical_knowledge\": [\n",
        "        \"Machine Learning\",\n",
        "        \"Predictive Modeling\",\n",
        "        \"SQL\",\n",
        "        \"Python\",\n",
        "        \"R\",\n",
        "        \"Tableau\"\n",
        "      ],\n",
        "      \"annual_salary\": 110000,\n",
        "      \"description_of_current_activities\": \"John excels in business intelligence, delivering actionable business insights and driving change management initiatives.\"\n",
        "    },\n",
        "    {\n",
        "      \"name\": \"Emily Zhang\",\n",
        "      \"position\": \"Senior Data Scientist\",\n",
        "      \"major\": \"Industrial Engineering\",\n",
        "      \"years_of_experience\": 8,\n",
        "      \"technical_knowledge\": [\n",
        "        \"Machine Learning\",\n",
        "        \"Predictive Modeling\",\n",
        "        \"SQL\",\n",
        "        \"Python\",\n",
        "        \"R\",\n",
        "        \"Tableau\",\n",
        "        \"Power BI\"\n",
        "      ],\n",
        "      \"annual_salary\": 120000,\n",
        "      \"description_of_current_activities\": \"Emily specializes in machine learning and predictive modeling to optimize industrial processes and improve operational efficiency.\"\n",
        "    },\n",
        "    {\n",
        "      \"name\": \"Robert Carter\",\n",
        "      \"position\": \"Senior Data Scientist\",\n",
        "      \"major\": \"Mechanics\",\n",
        "      \"years_of_experience\": 7,\n",
        "      \"technical_knowledge\": [\n",
        "        \"Machine Learning\",\n",
        "        \"Deep Learning\",\n",
        "        \"SQL\",\n",
        "        \"Python\",\n",
        "        \"R\",\n",
        "        \"Tableau\"\n",
        "      ],\n",
        "      \"annual_salary\": 115000,\n",
        "      \"description_of_current_activities\": \"Robert applies machine learning and deep learning to predict machinery failures and optimize systems for real-time monitoring.\"\n",
        "    },\n",
        "    {\n",
        "      \"name\": \"Sarah Thompson\",\n",
        "      \"position\": \"Senior Data Scientist\",\n",
        "      \"major\": \"Mathematics\",\n",
        "      \"years_of_experience\": 9,\n",
        "      \"technical_knowledge\": [\n",
        "        \"Machine Learning\",\n",
        "        \"Data Modeling\",\n",
        "        \"Financial Forecasting\",\n",
        "        \"SQL\",\n",
        "        \"Python\",\n",
        "        \"R\",\n",
        "        \"Tableau\",\n",
        "        \"Power BI\"\n",
        "      ],\n",
        "      \"annual_salary\": 130000,\n",
        "      \"description_of_current_activities\": \"Sarah focuses on complex data modeling and financial forecasting, utilizing machine learning for accurate predictions and insights.\"\n",
        "    },\n",
        "    {\n",
        "      \"name\": \"David Sanchez\",\n",
        "      \"position\": \"Senior Data Scientist\",\n",
        "      \"major\": \"Economics and Finance\",\n",
        "      \"years_of_experience\": 12,\n",
        "      \"technical_knowledge\": [\n",
        "        \"Machine Learning\",\n",
        "        \"Financial Modeling\",\n",
        "        \"Risk Assessment\",\n",
        "        \"SQL\",\n",
        "        \"Python\",\n",
        "        \"R\",\n",
        "        \"Tableau\",\n",
        "        \"Power BI\"\n",
        "      ],\n",
        "      \"annual_salary\": 135000,\n",
        "      \"description_of_current_activities\": \"David leads data-driven strategies and change management initiatives, specializing in financial modeling and risk assessment using advanced machine learning techniques.\"\n",
        "    }\n",
        "  ]\n",
        "}\n",
        "'''\n",
        "\n",
        "response = generate_llama_response(user_prompt)\n",
        "print(response)\n"
      ],
      "metadata": {
        "colab": {
          "base_uri": "https://localhost:8080/"
        },
        "id": "2yMO7RdePqfi",
        "outputId": "223bf562-2580-444e-d503-f4f7e1a0a535"
      },
      "execution_count": null,
      "outputs": [
        {
          "output_type": "stream",
          "name": "stderr",
          "text": [
            "Llama.generate: prefix-match hit\n"
          ]
        },
        {
          "output_type": "stream",
          "name": "stdout",
          "text": [
            " Based on the provided JSON-based dataset, here are some key insights and observations about the profiles of five senior data scientists:\n",
            "\n",
            "1. John Mitchell has 10 years of experience in business intelligence and excels in delivering actionable business insights and driving change management initiatives. He possesses a strong technical knowledge in machine learning, predictive modeling, SQL, Python, R, and Tableau. His annual salary is $110,000.\n",
            "2. Emily Zhang has 8 years of experience in machine learning and predictive modeling, with expertise in optimizing industrial processes and improving operational efficiency. She possesses a strong technical knowledge in machine learning, deep learning, SQL, Python, R, Tableau, and Power BI. Her annual salary is $120,000.\n",
            "3. Robert Carter has 7 years of experience in applying machine learning and deep learning to predict machinery failures and optimize systems for real-time monitoring. He possesses a strong technical knowledge in machine learning, deep learning, SQL, Python, R, Tableau, and Power BI. His annual salary is $115,000.\n",
            "4. Sarah Thompson has 9 years of experience in complex data modeling and financial forecasting, utilizing machine learning for accurate predictions and insights. She possesses a strong technical knowledge in machine learning, data modeling, SQL, Python, R, Tableau, Power BI, and financial forecasting. Her annual salary is $130,000.\n",
            "5. David Sanchez has 12 years of experience leading data-driven strategies and change management initiatives, specializing in financial modeling and risk assessment using advanced machine learning techniques. He possesses a strong technical knowledge in machine learning, financial modeling, SQL, Python, R, Tableau, Power BI, and risk assessment. His annual salary is $135,000.\n",
            "\n",
            "Based on these profiles, here are some key observations:\n",
            "\n",
            "* All five senior data scientists possess a strong technical knowledge in machine learning, predictive modeling, SQL, Python, R, Tableau, and Power BI.\n",
            "* They have diverse backgrounds in various fields such as business, industrial engineering, mathematics, economics, and finance.\n",
            "* The majority of them (4 out of 5) have over 8 years of experience in their respective fields.\n",
            "* Their annual salaries range from $110,000 to $135,000, with an average salary of around $125,000.\n",
            "* They are all currently working as senior data scientists and leading various initiatives such as delivering actionable business insights, optimizing industrial\n"
          ]
        }
      ]
    },
    {
      "cell_type": "markdown",
      "source": [
        "## **Optional Prompts**"
      ],
      "metadata": {
        "id": "4_zIV0g42HSo"
      }
    },
    {
      "cell_type": "markdown",
      "source": [
        "## **Zero-shot Prompt :**"
      ],
      "metadata": {
        "id": "XBq3Vzkl2O_J"
      }
    },
    {
      "cell_type": "code",
      "source": [
        "user_prompt = \"List the essential steps to prepare for a data science interview for an entry-level role\"\n",
        "response = generate_llama_response(user_prompt)\n",
        "print(response)"
      ],
      "metadata": {
        "colab": {
          "base_uri": "https://localhost:8080/"
        },
        "id": "AbSUBzbR2ZIA",
        "outputId": "cc9c7d19-3470-44b1-a99f-9a40b6d6570f"
      },
      "execution_count": null,
      "outputs": [
        {
          "output_type": "stream",
          "name": "stderr",
          "text": [
            "Llama.generate: prefix-match hit\n"
          ]
        },
        {
          "output_type": "stream",
          "name": "stdout",
          "text": [
            " Sure, I'd be happy to help! Here are some essential steps to prepare for a data science interview for an entry-level role:\n",
            "\n",
            "1. Review the fundamentals of statistics and mathematics: Data science is built upon a foundation of statistical and mathematical principles, so it's important to have a solid understanding of these concepts before your interview. Brush up on topics like probability distributions, hypothesis testing, regression analysis, and linear algebra.\n",
            "2. Familiarize yourself with programming languages commonly used in data science: Python and R are popular choices for data manipulation and analysis. Make sure you have hands-on experience with at least one of these languages, as well as familiarity with libraries like NumPy, Pandas, and scikit-learn (for Python) or dplyr, tidyr, and caret (for R).\n",
            "3. Practice working with real-world datasets: The more you practice analyzing and visualizing different types of data, the more comfortable you'll become with common data science tasks. Look for publicly available datasets online or use your own personal projects as a source of material to work with.\n",
            "4. Learn about machine learning algorithms: Machine learning is a key aspect of data science, so it's important to have some knowledge of supervised and unsupervised learning techniques. Study topics like decision trees, clustering algorithms, and neural networks.\n",
            "5. Understand the concept of data preprocessing: Data preprocessing is an essential step in any data analysis project, as it helps ensure that your model is trained on high-quality data. Familiarize yourself with techniques like feature scaling, handling missing values, and data normalization.\n",
            "6. Learn about visualization tools: Visualizing data is a powerful way to communicate insights to stakeholders, so it's important to have some experience with data visualization tools like Tableau, Power BI, or Matplotlib/Seaborn (for Python).\n",
            "7. Practice answering common interview questions: There are certain types of questions that are commonly asked in data science interviews, such as \"What is your experience with X tool?\" or \"Can you explain the difference between Y and Z algorithms?\" Prepare answers to these types of questions ahead of time so you're ready for anything.\n",
            "8. Be prepared to ask thoughtful questions: An interview isn't just an opportunity for the interviewer to assess your skills - it's also a chance for you to learn more about the company and the role. Prepare a list of thoughtful questions to ask during the interview, such as \"What types of projects do data scientists typically work on here?\" or \"Can you tell me more about the team I would be working with?\"\n",
            "9. Showcase your portfolio: If you have any completed projects or datasets that demonstrate your skills, bring them along to the interview\n"
          ]
        }
      ]
    },
    {
      "cell_type": "markdown",
      "source": [
        "## **One-shot Prompt :**"
      ],
      "metadata": {
        "id": "DBkoNWh353Dy"
      }
    },
    {
      "cell_type": "code",
      "source": [
        "user_prompt = \"Describe the main questions asked by a recruiter for entry-level data scientists.\"\n",
        "response = generate_llama_response(user_prompt)\n",
        "print(response)"
      ],
      "metadata": {
        "colab": {
          "base_uri": "https://localhost:8080/"
        },
        "id": "IL4EypnO2MyE",
        "outputId": "b7b50dc4-e969-4ce4-c764-6ed379492d6d"
      },
      "execution_count": null,
      "outputs": [
        {
          "output_type": "stream",
          "name": "stderr",
          "text": [
            "Llama.generate: prefix-match hit\n"
          ]
        },
        {
          "output_type": "stream",
          "name": "stdout",
          "text": [
            " Sure, I'd be happy to help! Here are some of the main questions that a recruiter might ask when interviewing for an entry-level data scientist position:\n",
            "\n",
            "1. Can you tell me about your experience with statistical analysis and modeling? The recruiter may want to know if you have any hands-on experience working with datasets, performing statistical tests, or building predictive models.\n",
            "2. How do you approach data visualization? The recruiter may be looking for evidence that you can effectively communicate insights and findings through charts, graphs, or other visualizations.\n",
            "3. What programming languages do you know, and how have you used them in your work? The recruiter may want to ensure that you have proficiency in at least one programming language commonly used in data science, such as Python, R, or SQL.\n",
            "4. How do you handle missing or erroneous data? The recruiter may ask this question to assess your ability to identify and address potential issues with the data, which is an important skill for any data scientist.\n",
            "5. Can you walk me through a time when you had to communicate complex technical concepts to a non-technical audience? This question can help the recruiter determine how well you can explain technical ideas in simple terms, which is a crucial skill for data scientists who need to collaborate with stakeholders across different departments.\n",
            "6. How do you stay current with new tools and techniques in the field of data science? The recruiter may want to know if you have a strong desire to learn and adapt to new technologies, as well as how you go about doing so.\n",
            "7. Can you give an example of a project you worked on where you had to gather requirements from stakeholders and integrate data from multiple sources? This question can help the recruiter assess your ability to work with stakeholders to define problems, design experiments, and implement solutions.\n",
            "8. How do you approach data storytelling, and how have you used it to communicate insights to others? The recruiter may be looking for evidence that you can use data visualization and other techniques to tell a compelling story with the data, rather than simply presenting raw numbers.\n",
            "9. Can you describe your experience working with machine learning algorithms or other advanced statistical techniques? The recruiter may want to know if you have any hands-on experience implementing these types of models in real-world applications.\n",
            "10. How do you handle confidentiality and ethical considerations when working with sensitive data? This question can help the recruiter assess your understanding of the importance of protecting sensitive information, as well as your ability to make sound judgments about how to handle such data in a responsible manner.\n"
          ]
        }
      ]
    },
    {
      "cell_type": "markdown",
      "source": [
        "## **Few-shot Prompt :**"
      ],
      "metadata": {
        "id": "loGdqbhB6LoP"
      }
    },
    {
      "cell_type": "code",
      "source": [
        "user_prompt = \"Generate structured profiles of three data scientists based on their specialties.\"\n",
        "response = generate_llama_response(user_prompt)\n",
        "print(response)"
      ],
      "metadata": {
        "colab": {
          "base_uri": "https://localhost:8080/"
        },
        "id": "tGF0ZmyX6bOX",
        "outputId": "2bb2df5b-0c34-4943-e897-a6909877561a"
      },
      "execution_count": null,
      "outputs": [
        {
          "output_type": "stream",
          "name": "stderr",
          "text": [
            "Llama.generate: prefix-match hit\n"
          ]
        },
        {
          "output_type": "stream",
          "name": "stdout",
          "text": [
            " Certainly! Based on the information provided, here are three structured profiles of data scientists with different specializations:\n",
            "\n",
            "Profile 1: Data Engineer Specialist\n",
            "Name: Sarah Johnson\n",
            "Specialization: Data Engineering and Architecture\n",
            "Expertise:\n",
            "\n",
            "* Strong background in computer science and software engineering\n",
            "* Proficient in designing and implementing large-scale data pipelines using Apache Kafka, AWS Kinesis, and Google Cloud Pub/Sub\n",
            "* Experienced with cloud computing platforms such as Amazon Web Services (AWS) and Google Cloud Platform (GCP)\n",
            "* Familiarity with containerization technologies like Docker and container orchestration tools like Kubernetes\n",
            "* Strong understanding of data governance and compliance, with experience in implementing data security and privacy protocols\n",
            "\n",
            "Profile 2: Machine Learning Specialist\n",
            "Name: Michael Chen\n",
            "Specialization: Machine Learning and Deep Learning\n",
            "Expertise:\n",
            "\n",
            "* Ph.D. in Computer Science with a focus on machine learning\n",
            "* Proficient in developing and training deep neural networks using TensorFlow, PyTorch, and Keras\n",
            "* Experienced with natural language processing (NLP) tasks such as text classification, sentiment analysis, and topic modeling\n",
            "* Familiarity with reinforcement learning and its applications in robotics and game AI\n",
            "* Strong understanding of statistical modeling and hypothesis testing\n",
            "\n",
            "Profile 3: Business Intelligence Specialist\n",
            "Name: Emily Patel\n",
            "Specialization: Business Intelligence and Data Visualization\n",
            "Expertise:\n",
            "\n",
            "* Master's degree in Business Administration with a focus on data analytics\n",
            "* Proficient in using SQL and NoSQL databases to extract, transform, and load (ETL) data for analysis\n",
            "* Experienced with data visualization tools such as Tableau, Power BI, and D3.js\n",
            "* Familiarity with reporting and dashboarding tools like Microsoft Excel and Google Data Studio\n",
            "* Strong understanding of business operations and process optimization, with experience in implementing data-driven solutions for various industries\n",
            "\n",
            "These profiles highlight the diverse range of specializations within the field of data science, from data engineering and architecture to machine learning and deep learning, and finally, business intelligence and data visualization. Each profile showcases a unique combination of technical skills, expertise, and experience that can be leveraged to address specific business needs and challenges.\n"
          ]
        }
      ]
    },
    {
      "cell_type": "markdown",
      "source": [
        "### **Conclusion:**\n",
        "\n",
        "**Q:** How did you get the optimal prompts? Describe the process deployed.\n",
        "\n",
        "To develop the optimal prompts, I have systematically gone about achieving this objective, following what the notebook actually has as an approach. First, I went through the problem domain as introductory under the heading \"Goal\". Here what I was doing was digging up actionable insights for data science interviews using LLMs. Next, I analysed the \"Explanation\" section so that I could understand how the tools and configurations were employed, for example, the FLAN-T5 model and the response generation. This being understood, I rolled out the engineering principles for prompt designing: Zero-shot prompts for generalized queries, One-shot prompts for specific guiding with example; Few-shot prompts for structuring output. The three of them were simplicity and specificity. In each case, it contained enough context for the model without drowning it in detail. I also took decoding parameters like temperature, top_k, and top_p into account, for instance, to optimize diversity and coherence in the generated response. This iterative, context-aware process effectively created precise, action-oriented prompts tailored to the aims of the project."
      ],
      "metadata": {
        "id": "I9K8vcWtS92t"
      }
    }
  ]
}