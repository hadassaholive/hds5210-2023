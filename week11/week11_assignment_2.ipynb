{
  "cells": [
    {
      "cell_type": "markdown",
      "metadata": {
        "id": "JFGJc7CMsEoh"
      },
      "source": [
        "# Week 11 Assignment\n",
        "\n",
        "\n",
        "Please do the programming exercise and verify that your code works using the tests, then think about your final project and fill out the questions in the second part.\n",
        "\n",
        "---\n",
        "---"
      ]
    },
    {
      "cell_type": "markdown",
      "metadata": {
        "id": "e7v0o66DsEom"
      },
      "source": [
        "### 47.1: Filtering and summarizing data\n",
        "\n",
        "For this work, you'll find a data file in `https://hds5210-data.s3.amazonaws.com/complications_all.csv`.\n",
        "\n",
        "Read in the data file and create a variable called `mo_hospitals` that contains a data frame from the `complications_all.csv` file, filtered down to only contain those hospitals from the state of Missouri (MO).\n",
        "\n",
        "Then aggregate that data by hospital into a variable named `mo_summary`.  There are some key fields that we want to summarize:\n",
        "* We want to know the earliest date that each hospital was participating in any program\n",
        "* We want to know the latest date that each hospital stopped participating in any program\n",
        "* We want to know the total number of patients in the denominators of these programs\n",
        "\n",
        "Some things to note:\n",
        "* You will need to convert the `Start Date` and `End Date` to actual datetime fields\n",
        "* You will need to clean up and convert the `Denominator` field to just be numeric - the rule that you should use it to simply remove any records where the `Denominator` is `'Not Available'`\n",
        "\n",
        "\n",
        "The final result of this step should be a new data frame called `mo_summary` that contains one row for each hospital and contains the min start date, max end date, and total denominator.  Use the names `start_date`, `end_date`, and `number` for those columns in `mo_summary`.\n",
        "\n",
        "\n",
        "You do not need to create your code in the form of a function, just make sure your variable names match what I've described above so the tests work."
      ]
    },
    {
      "cell_type": "code",
      "execution_count": 20,
      "metadata": {
        "id": "vGoBDrbJsEon"
      },
      "outputs": [],
      "source": [
        "import pandas as pd\n",
        "# This is just to show you the name to use for the variable you need to create for this step to pass.\n",
        "all_hospitals = pd.read_csv('https://hds5210-data.s3.amazonaws.com/complications_all.csv')\n"
      ]
    },
    {
      "cell_type": "code",
      "execution_count": 21,
      "metadata": {
        "colab": {
          "base_uri": "https://localhost:8080/"
        },
        "id": "a6SmwcXssEoo",
        "outputId": "a83e560c-4808-4d54-c328-46447023f5fb"
      },
      "outputs": [
        {
          "output_type": "stream",
          "name": "stdout",
          "text": [
            "                                   start_date   end_date  number\n",
            "Facility Name                                                   \n",
            "BARNES JEWISH HOSPITAL             2015-04-01 2018-06-30  131313\n",
            "BARNES-JEWISH ST PETERS HOSPITAL   2015-04-01 2018-06-30   15668\n",
            "BARNES-JEWISH WEST COUNTY HOSPITAL 2015-04-01 2018-06-30    9622\n",
            "BATES COUNTY MEMORIAL HOSPITAL     2015-07-01 2018-06-30    3117\n",
            "BELTON REGIONAL MEDICAL CENTER     2015-04-01 2018-06-30    9270\n"
          ]
        }
      ],
      "source": [
        "mo_hospitals = complications_data[complications_data['State'] == 'MO'].copy()\n",
        "\n",
        "mo_hospitals['Start Date'] = pd.to_datetime(mo_hospitals['Start Date'])\n",
        "mo_hospitals['End Date'] = pd.to_datetime(mo_hospitals['End Date'])\n",
        "\n",
        "mo_hospitals = mo_hospitals[mo_hospitals['Denominator'] != 'Not Available'].copy()\n",
        "\n",
        "mo_hospitals['Denominator'] = pd.to_numeric(mo_hospitals['Denominator'])\n",
        "\n",
        "mo_summary = mo_hospitals.groupby('Facility Name').agg(\n",
        "    start_date=('Start Date', 'min'),\n",
        "    end_date=('End Date', 'max'),\n",
        "    number=('Denominator', 'sum')\n",
        ")\n",
        "\n",
        "mo_summary.reset_index(inplace=True)\n",
        "\n",
        "mo_summary.set_index('Facility Name', inplace=True)\n",
        "\n",
        "print(mo_summary.head())\n",
        "\n",
        "\n",
        "\n",
        "\n",
        "\n",
        "\n",
        "\n"
      ]
    },
    {
      "cell_type": "code",
      "execution_count": 22,
      "metadata": {
        "id": "YggvD3dqsEoo"
      },
      "outputs": [],
      "source": [
        "assert(mo_summary['number'].sum() == 1766908)\n",
        "assert(mo_summary['start_date'].min() == pd.Timestamp(2015,4,1))\n",
        "assert(mo_summary['end_date'].max() == pd.Timestamp(2018,6,30))\n",
        "assert(mo_summary.shape == (108,3))\n",
        "assert(mo_summary.loc['BARNES JEWISH HOSPITAL'].number == 131313)\n",
        "assert(mo_summary.loc['BOONE HOSPITAL CENTER'].number == 63099)"
      ]
    },
    {
      "cell_type": "markdown",
      "metadata": {
        "id": "DavDI7f5sEop"
      },
      "source": [
        "---\n",
        "\n",
        "### 47.2 Planning your final project\n",
        "\n",
        "You should be thinking about the things we've been learning and how you can apply them to your final project.  Use the rubric to help guid your thinking and then answer the questions below.  This is meant as a guide to help you think through what you will do."
      ]
    },
    {
      "cell_type": "markdown",
      "metadata": {
        "id": "uGUs_gU-sEop"
      },
      "source": [
        "#### A) Data Access\n",
        "\n",
        "Your project should include data from at least three distinct types of sources.  For example: AWS S3, Relational Databases, Internet, Web Services, local files.  List what data sources you're planning to use."
      ]
    },
    {
      "cell_type": "markdown",
      "metadata": {
        "id": "BBoMgG2KsEop"
      },
      "source": [
        "\n",
        "\n",
        "Relational Databases, Internet, Local files and Web services\n",
        "\n",
        "\n",
        "\n",
        "\n"
      ]
    },
    {
      "cell_type": "markdown",
      "metadata": {
        "id": "FXA3hd6KsEop"
      },
      "source": [
        "#### B. Data Formats\n",
        "\n",
        "Your project should include data that comes in different file formats.  For example: HL7, EDI, HTML, CSV, Excel, JSON, XML.  List what data formats you're planning to use."
      ]
    },
    {
      "cell_type": "markdown",
      "metadata": {
        "id": "y2RL5Xx9sEop"
      },
      "source": [
        "\n",
        "\n",
        "CSV, Excel and JSON\n"
      ]
    },
    {
      "cell_type": "markdown",
      "metadata": {
        "id": "pa45xvAMsEop"
      },
      "source": [
        "#### C. Objective\n",
        "\n",
        "What purpose would your project serve in a real work setting?  Take a couple of paragraphs to write down why this is an interesting product."
      ]
    },
    {
      "cell_type": "markdown",
      "metadata": {
        "id": "HaPUGgWtsEop"
      },
      "source": [
        "\n",
        "In the world of data management and analysis, relational databases, internet, local files, web services, and usage of different file formats including CSV, Excel, and JSON are crucial elements. They provide flexible ways to exchange, access, and store data, meeting a range of requirements and situations.\n",
        "\n",
        "A project that makes use of these resources in the real world of work can have a lot of benefits. For example, structured data storage, effective querying, and well-organized data retrieval are made possible by the capacity to work with relational databases. This enhances decision-making processes inside an organisation by supporting complicated data linkages, simplifying data manipulation procedures, and facilitating easy access to essential information.\n",
        "\n",
        "Relational databases provide an organised structure for holding information about distinct entities and their relationships. By doing so, companies can lessen redundancy and enhance data quality by upholding data integrity, guaranteeing consistency, and enforcing limits. The ACID (Atomicity, Consistency, Isolation, Durability) attributes and transaction capabilities that relational databases offer also guarantee data integrity and dependability, which is essential in crucial applications like e-commerce, finance, and healthcare.\n",
        "\n",
        "Web services and internet connectivity are essential for facilitating data interchange between many systems and locations. The seamless integration of many platforms and applications is made possible by the use of web-based services and Application Programming Interfaces (APIs). By facilitating automation and enabling real-time data interchange and communication between systems, this integration promotes efficiency, expedites decision-making.  \n"
      ]
    },
    {
      "cell_type": "markdown",
      "metadata": {
        "id": "12q2OJYnsEoq"
      },
      "source": [
        "\n",
        "\n",
        "---\n",
        "\n",
        "\n",
        "\n",
        "## Submit your work via GitHub as normal\n"
      ]
    }
  ],
  "metadata": {
    "kernelspec": {
      "display_name": "Python 3",
      "language": "python",
      "name": "python3"
    },
    "language_info": {
      "codemirror_mode": {
        "name": "ipython",
        "version": 3
      },
      "file_extension": ".py",
      "mimetype": "text/x-python",
      "name": "python",
      "nbconvert_exporter": "python",
      "pygments_lexer": "ipython3",
      "version": "3.9.16"
    },
    "colab": {
      "provenance": []
    }
  },
  "nbformat": 4,
  "nbformat_minor": 0
}