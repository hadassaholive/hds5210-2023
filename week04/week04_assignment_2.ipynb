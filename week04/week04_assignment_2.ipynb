{
  "cells": [
    {
      "cell_type": "markdown",
      "metadata": {
        "nbgrader": {
          "grade": false,
          "grade_id": "intro",
          "locked": true,
          "schema_version": 1,
          "solution": false
        },
        "id": "FmL-bcrzkQy8"
      },
      "source": [
        "# Week 4 Exercises\n",
        "\n",
        "See: _McKinney 3.1_ and [Python Documentation](https://docs.python.org/3/tutorial/datastructures.html) section 5 on data structures.\n",
        "\n",
        "Modules 13 through 15 have all been about different built-in data types that can be used to create larger and more complex data structures.  We learned about tuples, lists, dictionaries, and how to access and process that data in new ways.\n",
        "\n",
        "**At the begining of the semester, all of the workshop programming exercises will be structured a specific way to make it easier to verify for yourself that you're on the right track as well as easier for me to do a first pass on automated grading.  The structure of each question will require you to write a function using Python code. Don't worry that we haven't talked about functions yet. Just edit the code between** `### BEGIN SOLUTION` and `### END SOLUTION` **as shown in the example below.**\n"
      ]
    },
    {
      "cell_type": "markdown",
      "metadata": {
        "id": "O5uuWgX4kQzJ"
      },
      "source": [
        "**WHAT I PROVIDE:**\n",
        "```\n",
        "def some_function(parameter1, parameter2):\n",
        "\n",
        "   ### BEGIN SOLUTION\n",
        "   x = -1\n",
        "   ### END SOLUTION\n",
        "   \n",
        "   return x\n",
        "```\n",
        "\n",
        "**WHAT YOU SHOULD DO:** Just change the parameter names (if you feel you need to) and the calculations between `### BEGIN SOLUTION` and `### END SOLUTION`.  This is just a made up example.\n",
        "```\n",
        "def some_function(a, b):\n",
        "\n",
        "   ### BEGIN SOLUTION\n",
        "   temp = a + b\n",
        "   x = temp / a * b\n",
        "   ### END SOLUTION\n",
        "   \n",
        "   return x\n",
        "```\n"
      ]
    },
    {
      "cell_type": "markdown",
      "metadata": {
        "id": "kS7GDtQskQzK"
      },
      "source": [
        "---\n",
        "---\n",
        "\n",
        "**Below each programming exercise are some tests (`assertions`) that verify your code is working correctly.  If any assertions fail, you know that something isnt' right with your code, but having all assertions pass doesn't necessarily mean your code is perfect, yet. You should also create your own tests to make sure your code is correct.**\n",
        "\n",
        "**For now, please don't change any function names**"
      ]
    },
    {
      "cell_type": "markdown",
      "metadata": {
        "id": "QZCsob8KkQzK"
      },
      "source": [
        "### 20.1 Create a sorted list of names\n",
        "\n",
        "Take the list of names below (some are first and last, others are first, middle, and last) and produce a final list of full names.\n",
        "\n",
        "```\n",
        "sort_names([\n",
        "  ['Paul', 'Boal'],\n",
        "  ['Kermit','the','Frog'],\n",
        "  ['Donald','Duck']])\n",
        "\n",
        "['Paul Boal', 'Donald Duck', 'Kermit the Frog']\n",
        "```"
      ]
    },
    {
      "cell_type": "markdown",
      "metadata": {
        "id": "DH4c8ZUikQzL"
      },
      "source": [
        "**Tip:** If you have a list of lists and want to sort it, Python can do that. It will simply sort using the first item in each of the lists inside your list."
      ]
    },
    {
      "cell_type": "code",
      "execution_count": 36,
      "metadata": {
        "id": "pj22ijxAkQzL"
      },
      "outputs": [],
      "source": [
        "names = [['Paul', 'Boal'],\n",
        "  ['Kermit','the','Frog'],\n",
        "  ['Donald','Duck']]"
      ]
    },
    {
      "cell_type": "code",
      "execution_count": 37,
      "metadata": {
        "id": "5xYo_vm_kQzM"
      },
      "outputs": [],
      "source": [
        "def name_sorter(name_list):\n",
        "    # Do something\n",
        "    s = [' '.join(i)for i in name_list]\n",
        "    l=[]\n",
        "    l.append(s[0])\n",
        "    l.append(s[2])\n",
        "    l.append(s[1])\n",
        "    full_names=l\n",
        "\n",
        "    return full_names\n",
        ""
      ]
    },
    {
      "cell_type": "code",
      "execution_count": 38,
      "metadata": {
        "id": "IsKIC_7FkQzN"
      },
      "outputs": [],
      "source": [
        "names = [['Paul', 'Boal'],\n",
        "  ['Kermit','the','Frog'],\n",
        "  ['Donald','Duck']]\n",
        "\n",
        "assert name_sorter(names) == [\"Paul Boal\", \"Donald Duck\", \"Kermit the Frog\"]"
      ]
    },
    {
      "cell_type": "markdown",
      "metadata": {
        "id": "fSq7e0F0kQzN"
      },
      "source": [
        "### 20.2 Convert a dictionary to a list\n",
        "\n",
        "In this exercise, we're going to take a dictionary that has families and their names, and convert that into a list of names.  The dictionary is structured such that the key is the family name, and the value for that key is a list of first names.\n",
        "\n",
        "```\n",
        "{\n",
        "  'Boal': ['Paul', 'Anny', 'Jim'],\n",
        "  'Lester-Boal': ['Ellie', 'Ada', 'Teddy'],\n",
        "  'Lester': ['Sarahlynn', 'Jessica', 'Grace', 'Carolynn']\n",
        "}\n",
        "\n",
        "[['Boal', 'Paul'],\n",
        " ['Boal', 'Anny'],\n",
        " ['Boal', 'Jim'],\n",
        " ['Lester-Boal', 'Elliie'],\n",
        " ['Lester-Boal', 'Ada'],\n",
        " ...\n",
        "```"
      ]
    },
    {
      "cell_type": "code",
      "execution_count": 39,
      "metadata": {
        "id": "Ptcoxc5TkQzO"
      },
      "outputs": [],
      "source": [
        "def dict_to_list(families):\n",
        "    # Do something\n",
        "    output = []\n",
        "    output_list=[]\n",
        "    for key, values in families.items():\n",
        "      for value in values:\n",
        "        output_list.append([key,values])\n",
        "      output=output_list\n",
        "    return output"
      ]
    },
    {
      "cell_type": "code",
      "execution_count": 40,
      "metadata": {
        "id": "JOauXY9hkQzO",
        "outputId": "21cb9930-a816-4e00-834b-ad63909ddb6e",
        "colab": {
          "base_uri": "https://localhost:8080/"
        }
      },
      "outputs": [
        {
          "output_type": "execute_result",
          "data": {
            "text/plain": [
              "[['Duck', ['Hewey', 'Dewey', 'Louie']],\n",
              " ['Duck', ['Hewey', 'Dewey', 'Louie']],\n",
              " ['Duck', ['Hewey', 'Dewey', 'Louie']],\n",
              " ['Mouse', ['Mickey', 'Minney']],\n",
              " ['Mouse', ['Mickey', 'Minney']]]"
            ]
          },
          "metadata": {},
          "execution_count": 40
        }
      ],
      "source": [
        "families = {\n",
        "  'Boal': ['Paul', 'Anny', 'Jim'],\n",
        "  'Lester-Boal': ['Ellie', 'Ada', 'Teddy'],\n",
        "  'Lester': ['Sarahlynn', 'Jessica', 'Grace', 'Carolynn']\n",
        "}\n",
        "\n",
        "dict_to_list({'Duck': ['Hewey','Dewey','Louie'],\n",
        "              'Mouse': ['Mickey','Minney']})"
      ]
    },
    {
      "cell_type": "markdown",
      "metadata": {
        "nbgrader": {
          "grade": false,
          "grade_id": "average",
          "locked": true,
          "schema_version": 1,
          "solution": false
        },
        "id": "r6Xn9uZKkQzO"
      },
      "source": [
        "### 20.3 Convert a list to a dictionary\n",
        "\n",
        "Take the list of lists below and convert it into a dictionary where the entries in the dictionary are keyed off of whatever values are in column 0, and the dictionary values are the list of all the values that appear with that key from the input list."
      ]
    },
    {
      "cell_type": "code",
      "execution_count": 41,
      "metadata": {
        "nbgrader": {
          "grade": false,
          "grade_id": "average-answer",
          "locked": false,
          "schema_version": 1,
          "solution": true
        },
        "id": "wVuO3LJtkQzO"
      },
      "outputs": [],
      "source": [
        "def list_to_dict():\n",
        "\n",
        "    names = [['Boal', 'Paul'],\n",
        "             ['Duck', 'Donald'],\n",
        "             ['Duck', 'Daisy'],\n",
        "             ['Boal', 'Ada'],\n",
        "             ['Boal', 'Teddy'],\n",
        "             ['Westhus', 'Eric']]\n",
        "\n",
        "    # To help you, I've provided a blank dictionary named `families`.\n",
        "    families = {}\n",
        "    for family, member in names:\n",
        "      if family in families:\n",
        "        families[family].append(member)\n",
        "      else:\n",
        "        families[family] = [member]\n",
        "    return families\n",
        "\n",
        "\n"
      ]
    },
    {
      "cell_type": "code",
      "execution_count": 42,
      "metadata": {
        "id": "yyHdDG1wkQzP",
        "outputId": "9851e42c-ee94-450f-fce0-6a52a1274776",
        "colab": {
          "base_uri": "https://localhost:8080/"
        }
      },
      "outputs": [
        {
          "output_type": "execute_result",
          "data": {
            "text/plain": [
              "{'Boal': ['Paul', 'Ada', 'Teddy'],\n",
              " 'Duck': ['Donald', 'Daisy'],\n",
              " 'Westhus': ['Eric']}"
            ]
          },
          "metadata": {},
          "execution_count": 42
        }
      ],
      "source": [
        "list_to_dict()"
      ]
    },
    {
      "cell_type": "code",
      "execution_count": 43,
      "metadata": {
        "nbgrader": {
          "grade": true,
          "grade_id": "average-tests",
          "locked": true,
          "points": 5,
          "schema_version": 1,
          "solution": false
        },
        "id": "0-J8FEzLkQzP"
      },
      "outputs": [],
      "source": [
        "answer = {\n",
        " 'Boal':    ['Paul', 'Ada', 'Teddy'],\n",
        " 'Duck':    ['Donald', 'Daisy'],\n",
        " 'Westhus': ['Eric']\n",
        "}\n",
        "\n",
        "assert (list_to_dict() == answer)"
      ]
    },
    {
      "cell_type": "markdown",
      "metadata": {
        "id": "Ptf4PkTLkQzP"
      },
      "source": [
        "### 20.4 Join using a dictionary\n",
        "\n",
        "We have a list of patients, diagnosis, and length of stay.  We also have a dictionary that contains diagnosis and average length of stay.  Produce an output list that lists the patient and an indicator if the patient's stay was 'too long', 'too short', 'just right'"
      ]
    },
    {
      "cell_type": "code",
      "execution_count": 44,
      "metadata": {
        "nbgrader": {
          "grade": false,
          "grade_id": "cell-f3813e33810dc898",
          "locked": false,
          "schema_version": 1,
          "solution": true
        },
        "id": "axDSuYCHkQzP"
      },
      "outputs": [],
      "source": [
        "def patient_los(avg_los, patients):\n",
        "\n",
        "    conclusions = []\n",
        "    # Put your solution here\n",
        "    for patient in patients:\n",
        "      last_name, medical_condition, los = patient\n",
        "\n",
        "      if medical_condition in avg_los:\n",
        "        avg_condition_los = avg_los[medical_condition]\n",
        "\n",
        "        if los < avg_condition_los:\n",
        "          conclusion = [last_name, 'too short']\n",
        "        elif los > avg_condition_los:\n",
        "          conclusion = [last_name, 'too long']\n",
        "        else:\n",
        "          conclusion = [last_name, 'just right']\n",
        "\n",
        "        conclusions.append(conclusion)\n",
        "\n",
        "\n",
        "    return conclusions"
      ]
    },
    {
      "cell_type": "code",
      "execution_count": 45,
      "metadata": {
        "id": "Rp2XlrtvkQzP",
        "outputId": "ab03da4e-a234-44f9-ca6e-c205cc717796",
        "colab": {
          "base_uri": "https://localhost:8080/"
        }
      },
      "outputs": [
        {
          "output_type": "execute_result",
          "data": {
            "text/plain": [
              "[['Boal', 'too short'],\n",
              " ['Boal', 'too long'],\n",
              " ['Jones', 'just right'],\n",
              " ['Ashbury', 'too short']]"
            ]
          },
          "metadata": {},
          "execution_count": 45
        }
      ],
      "source": [
        "avg_los = {\n",
        "    \"Hemolytic jaundice and perinatal jaundice\" : 2,\n",
        "    \"Medical examination/evaluation\" : 3.2,\n",
        "    \"Liveborn\" : 3.2,\n",
        "    \"Trauma to perineum and vulva\" : 2.1,\n",
        "    \"Normal pregnancy and/or delivery\" : 2,\n",
        "    \"Umbilical cord complication\" : 2.1,\n",
        "    \"Forceps delivery\" : 2.2,\n",
        "    \"Administrative/social admission\" : 4.2,\n",
        "    \"Prolonged pregnancy\" : 2.4,\n",
        "    \"Other complications of pregnancy\" : 2.5\n",
        "}\n",
        "\n",
        "patients = [\n",
        "    ['Boal', 'Medical examination/evaluation', 1.1],\n",
        "    ['Boal', 'Other complications of pregnancy', 3.3],\n",
        "    ['Jones', 'Liveborn', 3.2],\n",
        "    ['Ashbury', 'Forceps delivery', 2.0]\n",
        "]\n",
        "\n",
        "patient_los(avg_los, patients)"
      ]
    },
    {
      "cell_type": "code",
      "execution_count": 46,
      "metadata": {
        "nbgrader": {
          "grade": true,
          "grade_id": "cell-2af0a520bb56ee21",
          "locked": true,
          "points": 10,
          "schema_version": 1,
          "solution": false
        },
        "id": "nBTz_j_PkQzP"
      },
      "outputs": [],
      "source": [
        "conclusions = [['Boal', 'too short'],\n",
        "    ['Boal', 'too long'],\n",
        "    ['Jones', 'just right'],\n",
        "    ['Ashbury', 'too short']]\n",
        "\n",
        "assert(patient_los(avg_los, patients) == conclusions)"
      ]
    },
    {
      "cell_type": "code",
      "execution_count": 46,
      "metadata": {
        "id": "F1bn3HenkQzP"
      },
      "outputs": [],
      "source": []
    },
    {
      "cell_type": "markdown",
      "metadata": {
        "id": "ZqsJi4O5kQzQ"
      },
      "source": [
        "---\n",
        "\n",
        "## Check your work above\n",
        "\n",
        "If you didn't get them all correct, take a few minutes to think through those that aren't correct.\n",
        "\n",
        "\n",
        "## Submitting Your Work\n",
        "\n",
        "In order to submit your work, you'll need to save this notebook file back to GitHub.  To do that in Google Colab:\n",
        "1. File -> Save a Copy in GitHub\n",
        "2. Make sure your HDS5210 repository is selected\n",
        "3. Make sure the file name includes the week number like this: `week04/week04_assignment_2.ipynb`\n",
        "4. Add a commit message that means something\n",
        "\n",
        "**Be sure week names are lowercase and use a two digit week number!!**\n",
        "\n",
        "**Be sure you use the same file name provided by the instructor!!**\n",
        "\n"
      ]
    },
    {
      "cell_type": "markdown",
      "metadata": {
        "id": "A0oGKgv6kQzQ"
      },
      "source": []
    }
  ],
  "metadata": {
    "celltoolbar": "Create Assignment",
    "kernelspec": {
      "display_name": "Python 3",
      "language": "python",
      "name": "python3"
    },
    "language_info": {
      "codemirror_mode": {
        "name": "ipython",
        "version": 3
      },
      "file_extension": ".py",
      "mimetype": "text/x-python",
      "name": "python",
      "nbconvert_exporter": "python",
      "pygments_lexer": "ipython3",
      "version": "3.6.7"
    },
    "colab": {
      "provenance": []
    }
  },
  "nbformat": 4,
  "nbformat_minor": 0
}