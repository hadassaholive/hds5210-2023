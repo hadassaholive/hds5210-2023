{
  "cells": [
    {
      "cell_type": "markdown",
      "metadata": {
        "id": "XgLtk0Xqnk23"
      },
      "source": [
        "# Week 7 Assignment\n",
        "\n",
        "We've been working with different types of data structures in Python (dictionary, list, etc), how those are represented in JSON documents, and how to write code to access specific data elements. In this week's assignment, you will need to create your own JSON document to store information about yourself and the grades you've received from week 1 to week 4 and the week 6 quiz.  That is, everything you should have received a grade for.  Then you'll need to show me you know how to navigate the JSON in that file.\n",
        "\n",
        "Different from what we've done in the past, you do not have to write any functions or include any docstrings.  Just create some JSON and write some code.\n",
        "\n",
        "---"
      ]
    },
    {
      "cell_type": "markdown",
      "metadata": {
        "id": "BevJE1Gwnk25"
      },
      "source": [
        "## 7.1 Create a JSON string\n",
        "\n",
        "Create a JSON string that contains your name, email, year you were born, all of the grades you've received back so far, and a comment about what you thought was most challenging on each of those assignments.  This can be any structure you choose, but make sure it uses a dictionary and a list, and has at least two levels of hierarchy.  That is, it can't just be one big long list."
      ]
    },
    {
      "cell_type": "markdown",
      "metadata": {
        "id": "bsXAcbpXnk26"
      },
      "source": [
        "First, explain how your data structure is going to look..."
      ]
    },
    {
      "cell_type": "markdown",
      "metadata": {
        "id": "CsyfiUVYnk26"
      },
      "source": [
        "\n",
        "\n",
        "\n",
        "**My whole data is enclosed in a dictionary. The me information and grades are enclosed in a dictionary. The comments are in the form of a list. All the other information is enclosed in strings.**"
      ]
    },
    {
      "cell_type": "markdown",
      "metadata": {
        "id": "6z50LRQYnk26"
      },
      "source": [
        "Then put the actual JSON you've created inside the multiline string below..."
      ]
    },
    {
      "cell_type": "code",
      "execution_count": 17,
      "metadata": {
        "id": "g3ilo8funk27"
      },
      "outputs": [],
      "source": [
        "hds5210 = \"\"\"\n",
        "\n",
        "{\n",
        "    \"me\": {\n",
        "        \"name\": \"Hadassah Olive\",\n",
        "        \"email\": \"hchinnam1@slu.edu\",\n",
        "        \"Year of birth\": 1997\n",
        "    },\n",
        "    \"grades\": [\n",
        "        {\n",
        "            \"Assignment 1\": {\n",
        "                \"grade\": \"10/10\",\n",
        "                \"comment\": [\"It was pretty smooth\"]\n",
        "            }\n",
        "        },\n",
        "        {\n",
        "            \"Assignment 2\": {\n",
        "                \"grade\": \"10/10\",\n",
        "                \"comment\": [\"It was a little complicated than the first assignment\"]\n",
        "            }\n",
        "        },\n",
        "        {\n",
        "            \"Assignment 3\": {\n",
        "                \"grade\": \"10/10\",\n",
        "                \"comment\": [\"The code to be written was long and I had a hard time with indentation\"]\n",
        "            }\n",
        "        },\n",
        "        {\n",
        "            \"Assignment 4\": {\n",
        "                \"grade\": \"9/10\",\n",
        "                \"comment\": [\"Conversion was a bit complicated\"]\n",
        "            }\n",
        "        },\n",
        "        {\n",
        "            \"Assignment 6 quiz\": {\n",
        "                \"grade\": \"15/20\",\n",
        "                \"comment\": [\"It was difficult to understand and execute a code\"]\n",
        "            }\n",
        "        }\n",
        "    ]\n",
        "}\n",
        "\"\"\""
      ]
    },
    {
      "cell_type": "markdown",
      "metadata": {
        "id": "jxOaDbshnk27"
      },
      "source": [
        "## 7.2 Do something with your JSON\n",
        "\n",
        "Now use Python code to do something with the Json above.  Turn it into English text, but make sure that you use at least one loop to access some dict or list content of your JSON.  Below, I've provided some basic code to read in the string above as JSON and return a Python object.  Your job is to work with that data structure and print out the important information like your name, email, and how you did on each assignment."
      ]
    },
    {
      "cell_type": "code",
      "execution_count": 18,
      "metadata": {
        "colab": {
          "base_uri": "https://localhost:8080/"
        },
        "id": "ArJju4Tink27",
        "outputId": "8c7c4b2d-cc24-4c44-85d5-10227ff1530b"
      },
      "outputs": [
        {
          "output_type": "stream",
          "name": "stdout",
          "text": [
            "Hey,my name is Hadassah Olive\n",
            "My Email id is hchinnam1@slu.edu\n",
            " Assignment 1: 10/10\n",
            "Comment: It was pretty smooth\n",
            " Assignment 2: 10/10\n",
            "Comment: It was a little complicated than the first assignment\n",
            " Assignment 3: 10/10\n",
            "Comment: The code to be written was long and I had a hard time with indentation\n",
            " Assignment 4: 9/10\n",
            "Comment: Conversion was a bit complicated\n",
            " Assignment 6 quiz: 15/20\n",
            "Comment: It was difficult to understand and execute a code\n"
          ]
        }
      ],
      "source": [
        "import json\n",
        "data = json.loads(hds5210)\n",
        "\n",
        "name = data[\"me\"][\"name\"]\n",
        "email = data[\"me\"][\"email\"]\n",
        "print(f\"Hey,my name is {name}\")\n",
        "print(f\"My Email id is {email}\")\n",
        "\n",
        "\n",
        "grades = data[\"grades\"]\n",
        "for assignment_data in grades:\n",
        "    assignment_name, assignment_info = assignment_data.popitem()\n",
        "    grade = assignment_info[\"grade\"]\n",
        "    comment = assignment_info[\"comment\"][0]\n",
        "    print(f\" {assignment_name}: {grade}\")\n",
        "    print(f\"Comment: {comment}\")"
      ]
    },
    {
      "cell_type": "markdown",
      "metadata": {
        "id": "nX5brIiink28"
      },
      "source": [
        "## 7.3 Reflect\n",
        "\n",
        "Write a paragraph on any reflections you have. Was this hard? Easy?  What parts were most challenging or easiest? What did you like or dislike about the assignment?  Share whatever important thoughts you have abou this assignment."
      ]
    },
    {
      "cell_type": "markdown",
      "metadata": {
        "id": "Yy_d2IQznk28"
      },
      "source": [
        "**Writing the JSON was easy but writing the code was a bit difficult. I liked working with JSON files so far. I had the flexibility to work around with my own skills.**\n",
        "\n",
        "\n",
        "\n"
      ]
    },
    {
      "cell_type": "markdown",
      "metadata": {
        "id": "9WVQbwyLnk28"
      },
      "source": [
        "---\n",
        "\n",
        "# Example\n",
        "\n",
        "Below is an example of something similar, but this uses information my and my friend's kids instead of grades."
      ]
    },
    {
      "cell_type": "code",
      "execution_count": 19,
      "metadata": {
        "colab": {
          "base_uri": "https://localhost:8080/"
        },
        "id": "6sLfxIilnk28",
        "outputId": "29c50e70-1c3c-4576-95d6-9c0ef6c73259"
      },
      "outputs": [
        {
          "output_type": "stream",
          "name": "stdout",
          "text": [
            "Hi, my name is Paul. I've got 3 kids. Their names are Ellie, Ada, Teddy.\n",
            "My friend, Anny has 1 kids. That's fewer than me. Their names are 1\n"
          ]
        }
      ],
      "source": [
        "hds5210 = \"\"\"\n",
        "{\n",
        "    \"me\": {\n",
        "        \"name\": \"Paul\",\n",
        "        \"kids\": [\"Ellie\", \"Ada\", \"Teddy\"]\n",
        "    },\n",
        "    \"friend\": {\n",
        "        \"name\": \"Anny\",\n",
        "        \"kids\": [\"Abby\"]\n",
        "    }\n",
        "}\n",
        "\"\"\"\n",
        "\n",
        "import json\n",
        "\n",
        "info = json.loads(hds5210)\n",
        "\n",
        "me = info[\"me\"][\"name\"]\n",
        "my_kids_count = len(info[\"me\"][\"kids\"])\n",
        "kids_list = \", \".join(info[\"me\"][\"kids\"])\n",
        "friend = info[\"friend\"][\"name\"]\n",
        "friends_kid_count = len(info[\"friend\"][\"kids\"])\n",
        "friend_kids = \", \".join(info[\"friend\"][\"kids\"])\n",
        "compare = \"more\" if friends_kid_count > my_kids_count else \"fewer\"\n",
        "\n",
        "print(f\"Hi, my name is {me}. I've got {my_kids_count} kids. Their names are {kids_list}.\")\n",
        "print(f\"My friend, {friend} has {friends_kid_count} kids. That's {compare} than me. Their names are {friends_kid_count}\")"
      ]
    }
  ],
  "metadata": {
    "kernelspec": {
      "display_name": "Python 3",
      "language": "python",
      "name": "python3"
    },
    "language_info": {
      "codemirror_mode": {
        "name": "ipython",
        "version": 3
      },
      "file_extension": ".py",
      "mimetype": "text/x-python",
      "name": "python",
      "nbconvert_exporter": "python",
      "pygments_lexer": "ipython3",
      "version": "3.9.16"
    },
    "colab": {
      "provenance": []
    }
  },
  "nbformat": 4,
  "nbformat_minor": 0
}