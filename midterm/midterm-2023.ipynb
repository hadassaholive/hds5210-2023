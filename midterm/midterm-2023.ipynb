{
  "cells": [
    {
      "cell_type": "markdown",
      "metadata": {
        "id": "zYONFtcG6cPt"
      },
      "source": [
        "# HDS5210-2022 Midterm\n",
        "\n",
        "In the midterm, you're going to use all the programming and data management skills you've developed so far to build a risk calculator that pretends to be integrated with a clinical registry.  You'll compute the PRIEST COVID-19 Clinical Severity Score for a series of patients and, based on their risk of an adverse outcome, query a REST web service to find a hospital to transfer them to. The end result of your work will be a list of instructions on where each patient should be discharged given their risk and various characteristics of the patient.\n",
        "\n",
        "Each step in the midterm will build up to form your complete solution.\n",
        "\n",
        "**Make sure you write good docstrings and doctests along the way!!**\n",
        "\n",
        "**The midterm is due at 11:59 PM CST on Monday, October 23rd.**\n",
        "\n",
        "---"
      ]
    },
    {
      "cell_type": "markdown",
      "metadata": {
        "id": "yoiSf4dD6cPx"
      },
      "source": [
        "## Step 1: Calculate PRIEST Clinical Severity Score\n",
        "\n",
        "This scoring algorithm can be found [here on the MDCalc website](https://www.mdcalc.com/priest-covid-19-clinical-severity-score#evidence).  \n",
        "\n",
        "1. You will need to write a function called **priest()** with the following input parameters.  \n",
        " * Sex (Gender assigned at birth)\n",
        " * Age in years\n",
        " * Respiratory rate in breaths per minute\n",
        " * Oxygen saturation as a percent between 0 and 1\n",
        " * Heart rate in beats per minute\n",
        " * Systolic BP in mmHg\n",
        " * Temperature in degrees C\n",
        " * Alertness as a string description\n",
        " * Inspired Oxygen as as string description\n",
        " * Performance Status as a string description\n",
        "2. The function will need to follow the algorithm provided on the MDCalc website to compute a risk percentage that should be returned as a numeric value between 0 and 1.\n",
        "3. Be sure to use docstring documentation and at least three built-in docstring test cases.\n",
        "4. Assume that the input values that are strings could be any combination of upper or lower case. For example: 'male', 'Male', 'MALE', 'MalE' should all be interpretted by your code as male.\n",
        "5. If any of the inputs are invalid (for example a sex value that is not recognizable as male or female) your code should return None.\n",
        "\n",
        "NOTES:\n",
        "1. In the final step there is a table that translates from **PRIEST Score** to **30-day probability of an outcome** but the last two probabilities are shown as ranges (59-88% and >99%).  Our code needs to output a single number, however. For our code, use the following rule:\n",
        " * If PRIEST score is between 17 and 25, the probability you return should be 0.59\n",
        " * If PRIEST score is greater than or equal to 26, the probability you return should be 0.99\n"
      ]
    },
    {
      "cell_type": "code",
      "execution_count": 99,
      "metadata": {
        "id": "4sPTJDsM6cPy"
      },
      "outputs": [],
      "source": [
        "def priest(patients_sex, patients_age, patients_resp, patients_os, patients_heart, patients_bp, patients_temp, patients_alert, patients_inspo, patients_status):\n",
        "    \"\"\" (str, int, float) -> string\n",
        "    Compute a risk percentage using the algorithm from MDCalc portal\n",
        "\n",
        "    risk_count = 0\n",
        "    last_risk = 0\n",
        "\n",
        "<<<(\"male\", 70, 28, 0.94, 125, 120, 37, \"alert\", \"mask\", \"normal\")\n",
        "<<<(\"female\", 80, 32, 0.90, 140, 90, 33, \"lethargic\", \"none\", \"impaired\")\n",
        "<<<(\"unknown\", 70, 28, 0.94, 125, 120, 37, \"alert\", \"mask\", \"normal\")\n",
        "\"\"\"\n",
        "\n",
        "\n",
        "    patients_status = patients_status.casefold()\n",
        "    patients_sex = patients_sex.casefold()\n",
        "    patients_alert = patients_alert.casefold()\n",
        "    patients_inspo = patients_inspo.casefold()\n",
        "\n",
        "    if patients_status not in [\"unrestricted normal activity\", \"limited strenuous activity, can do light activity\",\n",
        "                              \"limited activity, can self-care\", \"limited self-care\", \"bed/chair bound, no self-care\"]:\n",
        "        return None\n",
        "    if patients_sex not in [\"male\", \"female\"]:\n",
        "        return None\n",
        "    if patients_alert not in ['alert', 'confused or not alert']:\n",
        "        return None\n",
        "    if patients_inspo not in ['air', 'supplemental oxygen']:\n",
        "        return None\n",
        "\n",
        "    if patients_sex == \"male\":\n",
        "        risk_count += 1\n",
        "\n",
        "    if patients_age > 80:\n",
        "        risk_count += 4\n",
        "    elif patients_age >= 66:\n",
        "        risk_count += 3\n",
        "    elif patients_age >= 50:\n",
        "        risk_count += 2\n",
        "\n",
        "    if patients_resp < 9:\n",
        "        risk_count += 3\n",
        "    elif patients_resp > 24:\n",
        "        risk_count += 3\n",
        "    elif 21 <= patients_resp <= 24:\n",
        "        risk_count += 2\n",
        "    elif 9 <= patients_resp <= 11:\n",
        "        risk_count += 1\n",
        "\n",
        "    if patients_os < 0.92:\n",
        "        risk_count += 3\n",
        "    elif patients_os <= 0.93:\n",
        "        risk_count += 2\n",
        "    elif patients_os <= 0.95:\n",
        "        risk_count += 1\n",
        "\n",
        "    if patients_heart > 130:\n",
        "        risk_count += 3\n",
        "    elif patients_heart < 41:\n",
        "        risk_count += 3\n",
        "    elif 50 >= patients_heart >= 41 or 110 >= patients_heart >= 91:\n",
        "        risk_count += 1\n",
        "    elif 130 >= patients_heart >= 111:\n",
        "        risk_count += 2\n",
        "\n",
        "    if patients_bp < 91:\n",
        "        risk_count += 3\n",
        "    elif 91 <= patients_bp <= 100:\n",
        "        risk_count += 2\n",
        "    elif 101 <= patients_bp <= 110:\n",
        "        risk_count += 1\n",
        "    elif 111 <= patients_bp <= 219:\n",
        "        risk_count += 0\n",
        "    elif patients_bp > 219:\n",
        "        risk_count += 3\n",
        "\n",
        "    if patients_status == \"bed/chair bound, no self-care\":\n",
        "        risk_count += 4\n",
        "    elif patients_status == \"limited strenuous activity, can do light activity\":\n",
        "        risk_count += 1\n",
        "    elif patients_status == \"limited activity, can self-care\":\n",
        "        risk_count += 3\n",
        "    elif patients_status == \"limited self-care\":\n",
        "        risk_count += 3\n",
        "\n",
        "    risk_map = {\n",
        "        0: 0.01, 1: 0.01, 2: 0.02, 3: 0.02, 4: 0.03, 5: 0.09, 6: 0.15, 7: 0.18, 8: 0.22, 9: 0.26, 10: 0.29,\n",
        "        11: 0.34, 12: 0.38, 13: 0.46, 14: 0.47, 15: 0.49, 16: 0.55\n",
        "    }\n",
        "    if 17 <= priest <= 25:\n",
        "        return 0.59\n",
        "    elif priest >= 26:\n",
        "        return 0.99\n",
        "    else:\n",
        "      return None\n",
        "\n",
        "    return last_risk\n"
      ]
    },
    {
      "cell_type": "code",
      "execution_count": 100,
      "metadata": {
        "id": "WirD1GX76cPy",
        "outputId": "7d82ec53-ff46-40d2-f207-672c57fd3fca",
        "colab": {
          "base_uri": "https://localhost:8080/"
        }
      },
      "outputs": [
        {
          "output_type": "stream",
          "name": "stdout",
          "text": [
            "Finding tests in NoName\n"
          ]
        }
      ],
      "source": [
        "import doctest\n",
        "doctest.run_docstring_examples(priest, globals(),verbose=True)"
      ]
    },
    {
      "cell_type": "markdown",
      "metadata": {
        "id": "e254afbB6cPz"
      },
      "source": [
        "## Part 2: Find a hospital\n",
        "\n",
        "The next thing we have to do is figure out where to send this particular patient.  The guidelines on where to send a patient are based on their age (pediatric, adult, geriatric), sex, and risk percentage.  Luckily, you don't have to implement these rules. I already have. All you have to do is use a REST web service that I've created for you.\n",
        "\n",
        "You'll want to use Python to make a call to my REST web service similar to the example URL below. The first part of the URL will be the same for everyone and every request that you make. What you will need to modify for each of your requests is the information after the question mark.\n",
        "\n",
        "```\n",
        "https://oumdj6oci2.execute-api.us-east-1.amazonaws.com/prd/?age=40&sex=male&risk_pct=0.1\n",
        "```\n",
        "\n",
        "The example above asks my web service where a 40-year old male with a risk of 10% should go.  What the web service will return back is a JSON string containing the information you need.  That JSON will look like this:\n",
        "\n",
        "```json\n",
        "{\n",
        "  \"age\": \"40\",\n",
        "  \"sex\": \"male\",\n",
        "  \"risk\": \"0.1\",\n",
        "  \"hospital\": \"Southwest Hospital and Medical Center\"\n",
        "}\n",
        "```\n",
        "\n",
        "My function is not smart enough to understand `'MALE'` is the same as `'male'`.  You have to send it exactly `'male'` or `'female'`\n",
        "\n",
        "1. Your job is to write a function called **find_hospital()** that takes age, sex, and risk as parameters.\n",
        "2. Your function should call this REST web service using the `requests` module\n",
        "3. Then your function will need to interpret the JSON it gets and return just the name of the hospital\n",
        "4. If anything fails, return None\n",
        "5. Include a good docstring with at least three test cases.\n"
      ]
    },
    {
      "cell_type": "code",
      "execution_count": 95,
      "metadata": {
        "id": "oB4LzkOI6cP0"
      },
      "outputs": [],
      "source": [
        "import requests\n",
        "\n",
        "def find_hospital(age, sex, risk_pct):\n",
        "\n",
        "    \"\"\" (str, int, float) -> string\n",
        "    Find the hospital based on age, sex, and risk percentage using a web service.\"\"\"\n",
        "\n",
        "    URL = \"https://oumdj6ociz.execute-api.us-east-1.amazonaws.com/prd/\"\n",
        "    parameters = {\n",
        "        'age': age,\n",
        "        'sex': sex,\n",
        "        'risk_pct': risk_pct\n",
        "    }\n",
        "\n",
        "    reply = requests.get(url=URL, params=parameters)\n",
        "\n",
        "    if reply.status_code == 200:\n",
        "        json_reply = reply.json()\n",
        "        hospital_name = json_reply[\"hospital\"]\n",
        "        return hospital_name\n",
        "    else:\n",
        "        return None\n"
      ]
    },
    {
      "cell_type": "code",
      "execution_count": 92,
      "metadata": {
        "id": "yM9HJiv06cP0",
        "outputId": "c3314210-392c-40d7-b7eb-6d176deaf8bb",
        "colab": {
          "base_uri": "https://localhost:8080/"
        }
      },
      "outputs": [
        {
          "output_type": "stream",
          "name": "stdout",
          "text": [
            "Finding tests in NoName\n"
          ]
        }
      ],
      "source": [
        "import doctest\n",
        "doctest.run_docstring_examples(find_hospital, globals(),verbose=True)"
      ]
    },
    {
      "cell_type": "markdown",
      "metadata": {
        "id": "yeKOd1Cs6cP1"
      },
      "source": [
        "## Part 3: Get the address for that hospital from a JSON file\n",
        "\n",
        "Great! Now we have code to tell us which hospital to send someone to... but we don't know where that hospital is. The next function we need to create is one that looks up the address of that hospital.  All of these hospitals are in Atlanta, Georgia.  We're going to use the list from this webpage to lookup the address for that hospital, based on its name.  https://www.officialusa.com/stateguides/health/hospitals/georgia.html\n",
        "\n",
        "Because we skipped the section about Beautiful Soup and working with HTML, I've converted this information into a JSON document for you.  It's available for you here.  Your code should retrieve this file using the `requests` module.\n",
        "\n",
        "`https://drive.google.com/uc?export=download&id=1fIFD-NkcdiMu941N4GjyMDWxiKsFJBw-`\n",
        "\n",
        "1. You need to create a function called **get_address()** that takes hospital name as a parameter and searches the data from this JSON file for the hospital you want to find.\n",
        "2. Your code will have to load the JSON and return the correct hospital based on name.\n",
        "3. If the hospital name isn't found, the function should return None.\n",
        "4. Be sure to use good docstring documentation and includes at least 3 test cases."
      ]
    },
    {
      "cell_type": "code",
      "execution_count": 97,
      "metadata": {
        "id": "AZT15E376cP2"
      },
      "outputs": [],
      "source": [
        "import json\n",
        "def get_address(hospital_name):\n",
        "  \"\"\" To get address of a hospital from a local JSON file\n",
        "  <<< get_adress(\"Emory Dunwoody Medical Centre\")\n",
        "  <<< get_address(\"Barrow Medical Centre\")\n",
        "  <<< get_address(\"Satilla Park Hospital\")\"\"\"\n",
        "\n",
        "  with open ('/content/ga_hospitals.json') as json_file:\n",
        "    data= json.load(json_file)\n",
        "    for key in data:\n",
        "      if key.lower() == hospital_name.lower():\n",
        "        return data[key].get(\"ADDRESS\")\n",
        "\n",
        "      return none"
      ]
    },
    {
      "cell_type": "markdown",
      "metadata": {
        "id": "mnYhLQ096cP2"
      },
      "source": [
        "## Part 4: Run the risk calculator on a population\n",
        "\n",
        "At the link below, there is a file called `people.psv`.  It is a pipe-delimited (`|`) file with columns that match the inputs for the PRIEST calculation above.  Your code should use the `requests` module to retrieve the file from this URL.\n",
        "\n",
        "`https://drive.google.com/uc?export=download&id=1fLxJN9YGUqmqExrilxSS8furwUER5HHh`\n",
        "\n",
        "\n",
        "In addition, the file has a patient identifier in the first column.\n",
        "\n",
        "1. Write a function called **process_people()** that takes the file location above as its only parameter. Your Python program should use your code above to process all of these rows, determine the hospital and address, and return a list whose items are a dictionary like this: `{ patient_number: [sex, age, breath, o2sat, heart, systolic, temp, alertness, inspired, status, hospital, address]}`.  Look at the file in Part 5 for what the output looks like.\n",
        "2. Be sure to use good docstrings, but you don't need any tests in your doc strings.  I've provided those for you withe file in Part 5.\n",
        "\n",
        "\n",
        "**NOTE** that when running your code for all the 100 records in the `people.psv` file, it may take a few minutes to complete.  You're making multiple calls to the internet for each record, so that can take a little while.\n"
      ]
    },
    {
      "cell_type": "code",
      "execution_count": 98,
      "metadata": {
        "id": "y7rAxozB6cP2"
      },
      "outputs": [],
      "source": [
        "import pandas as pd\n",
        "\n",
        "def process_people(path):\n",
        "    \"\"\"\n",
        "    Read patient data from a CSV file and process it, returning a dictionary of patient information.\"\"\"\n",
        "\n",
        "    last_return = {}\n",
        "    csv = pd.read_csv(path, sep=',')\n",
        "\n",
        "    for index, row in csv.iterrows():\n",
        "        patient_code = row['patient']\n",
        "        patients_sex = row['sex']\n",
        "        patients_age = row['age']\n",
        "        patients_resp = row['breath']\n",
        "        patients_os = row['02 sat']\n",
        "        patients_heart = row['heart']\n",
        "        patients_bp = row['systolic bp']\n",
        "        patients_temp = row['temp']\n",
        "        patients_alert = row['alertness']\n",
        "        patients_inspo = row['inspired']\n",
        "        patients_status = row['status']\n",
        "\n",
        "        calculate_risk = priest(patients_sex, patients_age, patients_resp, patients_os, patients_heart, patients_bp, patients_temp, patients_alert)\n",
        "        hospital_name = find_hospital(patients_age, patients_sex, calculate_risk)\n",
        "        hospital_address = get_address(hospital_name.upper())\n",
        "\n",
        "        last_return[patient_code] = [patients_sex, patients_age, patients_resp, patients_os, patients_heart, patients_bp, patients_temp, patients_inspo, patients_status]\n",
        "\n",
        "    return last_return\n"
      ]
    },
    {
      "cell_type": "markdown",
      "metadata": {
        "id": "WJFp7KIc6cP2"
      },
      "source": [
        "## Part 5: Checking your final results\n",
        "\n",
        "The final step is to check your results.  You should be able to compare your results to the output in `people_results.json` at the link below.  Write some code to check your results.  This does not need to be a function.\n",
        "\n",
        "`https://drive.google.com/uc?export=download&id=1gx1SSC20mO5XL6uYD0mdcM_cL91fcIW5`\n"
      ]
    },
    {
      "cell_type": "code",
      "execution_count": 94,
      "metadata": {
        "id": "g26t5zdp6cP3"
      },
      "outputs": [],
      "source": []
    },
    {
      "cell_type": "markdown",
      "metadata": {
        "id": "5iydMvKU6cP3"
      },
      "source": [
        "---\n",
        "\n",
        "## Check your work above\n",
        "\n",
        "If you didn't get them all correct, take a few minutes to think through those that aren't correct.\n",
        "\n",
        "\n",
        "## Submitting Your Work\n",
        "\n",
        "Submit your work as usual into a folder named `midterm`"
      ]
    },
    {
      "cell_type": "markdown",
      "metadata": {
        "id": "HwIQyFrF6cP3"
      },
      "source": [
        "---"
      ]
    }
  ],
  "metadata": {
    "kernelspec": {
      "display_name": "Python 3",
      "language": "python",
      "name": "python3"
    },
    "language_info": {
      "codemirror_mode": {
        "name": "ipython",
        "version": 3
      },
      "file_extension": ".py",
      "mimetype": "text/x-python",
      "name": "python",
      "nbconvert_exporter": "python",
      "pygments_lexer": "ipython3",
      "version": "3.9.16"
    },
    "colab": {
      "provenance": []
    }
  },
  "nbformat": 4,
  "nbformat_minor": 0
}