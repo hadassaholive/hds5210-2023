{
  "nbformat": 4,
  "nbformat_minor": 0,
  "metadata": {
    "colab": {
      "provenance": [],
      "authorship_tag": "ABX9TyPOvQdo5AMtLajGIpNRa4Sb",
      "include_colab_link": true
    },
    "kernelspec": {
      "name": "python3",
      "display_name": "Python 3"
    },
    "language_info": {
      "name": "python"
    }
  },
  "cells": [
    {
      "cell_type": "markdown",
      "metadata": {
        "id": "view-in-github",
        "colab_type": "text"
      },
      "source": [
        "<a href=\"https://colab.research.google.com/github/hadassaholive/hds5210-2023/blob/main/Untitled3.ipynb\" target=\"_parent\"><img src=\"https://colab.research.google.com/assets/colab-badge.svg\" alt=\"Open In Colab\"/></a>"
      ]
    },
    {
      "cell_type": "code",
      "execution_count": 1,
      "metadata": {
        "colab": {
          "base_uri": "https://localhost:8080/"
        },
        "id": "i70y88TIwNnl",
        "outputId": "974488ea-7ce4-4780-92ac-1e967c018cfe"
      },
      "outputs": [
        {
          "output_type": "stream",
          "name": "stdout",
          "text": [
            "Hello World!\n"
          ]
        }
      ],
      "source": [
        "print(\"Hello World!\")"
      ]
    },
    {
      "cell_type": "markdown",
      "source": [
        "My documentation!\n",
        "I'm really excited that I can write code!"
      ],
      "metadata": {
        "id": "sYCCRK8XxSvm"
      }
    },
    {
      "cell_type": "code",
      "source": [],
      "metadata": {
        "id": "78OBemHSxgES"
      },
      "execution_count": null,
      "outputs": []
    }
  ]
}